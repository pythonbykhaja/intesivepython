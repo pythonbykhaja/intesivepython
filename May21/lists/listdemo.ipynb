{
 "metadata": {
  "language_info": {
   "codemirror_mode": {
    "name": "ipython",
    "version": 3
   },
   "file_extension": ".py",
   "mimetype": "text/x-python",
   "name": "python",
   "nbconvert_exporter": "python",
   "pygments_lexer": "ipython3",
   "version": "3.9.4"
  },
  "orig_nbformat": 2,
  "kernelspec": {
   "name": "python394jvsc74a57bd063fd5069d213b44bf678585dea6b12cceca9941eaf7f819626cde1f2670de90d",
   "display_name": "Python 3.9.4 64-bit"
  },
  "metadata": {
   "interpreter": {
    "hash": "63fd5069d213b44bf678585dea6b12cceca9941eaf7f819626cde1f2670de90d"
   }
  }
 },
 "nbformat": 4,
 "nbformat_minor": 2,
 "cells": [
  {
   "source": [
    "Testing for a Value with in\n",
    "---------------------------\n"
   ],
   "cell_type": "markdown",
   "metadata": {}
  },
  {
   "cell_type": "code",
   "execution_count": 7,
   "metadata": {},
   "outputs": [
    {
     "output_type": "stream",
     "name": "stdout",
     "text": [
      "False\nTrue\n"
     ]
    }
   ],
   "source": [
    "avengers = ['ironman', 'captian america', 'thor', 'captian marvel', 'black panther',]\n",
    "is_superman_avenger = 'superman' in avengers\n",
    "print(is_superman_avenger)\n",
    "is_tony_stark_avenger = 'ironman' in avengers\n",
    "print(is_tony_stark_avenger)"
   ]
  },
  {
   "source": [
    "Count Occurences Of a Value with count()\n",
    "----------------------------------------\n"
   ],
   "cell_type": "markdown",
   "metadata": {}
  },
  {
   "cell_type": "code",
   "execution_count": 8,
   "metadata": {},
   "outputs": [
    {
     "output_type": "stream",
     "name": "stdout",
     "text": [
      "cat count = 2 horse count = 1 \n"
     ]
    }
   ],
   "source": [
    "pets = ['cat', 'dog', 'goat', 'rabbit', 'fish', 'cow', 'horse','cat',]\n",
    "count_of_cat = pets.count('cat')\n",
    "count_of_horse = pets.count('horse')\n",
    "print(f\"cat count = {count_of_cat} horse count = {count_of_horse} \")"
   ]
  },
  {
   "source": [
    "String to List and List to String\n",
    "---------------------------------\n"
   ],
   "cell_type": "markdown",
   "metadata": {}
  },
  {
   "cell_type": "code",
   "execution_count": 9,
   "metadata": {},
   "outputs": [
    {
     "output_type": "stream",
     "name": "stdout",
     "text": [
      "suzuki, hyundai, kia, tata, nissan, mahindra, renault, ford, honda\n"
     ]
    }
   ],
   "source": [
    "cars_make = [ 'suzuki', 'hyundai', 'kia', 'tata', 'nissan', 'mahindra', 'renault', 'ford', 'honda' ]\n",
    "\n",
    "cars_as_single_string = ', '.join(cars_make)\n",
    "print(cars_as_single_string)"
   ]
  },
  {
   "cell_type": "code",
   "execution_count": 10,
   "metadata": {},
   "outputs": [
    {
     "output_type": "stream",
     "name": "stdout",
     "text": [
      "['tv', 'ipad', 'iphone', 'alexa', 'refrigirator', 'microwave oven', ' ac']\n"
     ]
    }
   ],
   "source": [
    "# string to a list\n",
    "electronics = 'tv,ipad,iphone,alexa,refrigirator,microwave oven, ac'\n",
    "electronics_list = electronics.split(',')\n",
    "print(electronics_list)\n",
    "\n"
   ]
  },
  {
   "cell_type": "code",
   "execution_count": 11,
   "metadata": {},
   "outputs": [
    {
     "output_type": "stream",
     "name": "stdout",
     "text": [
      "['name', 'mobile', 'address']\n"
     ]
    }
   ],
   "source": [
    "csv_header = 'name  mobile  address'\n",
    "header_list = csv_header.split()\n",
    "print(header_list)"
   ]
  }
 ]
}