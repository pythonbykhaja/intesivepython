{
 "metadata": {
  "language_info": {
   "codemirror_mode": {
    "name": "ipython",
    "version": 3
   },
   "file_extension": ".py",
   "mimetype": "text/x-python",
   "name": "python",
   "nbconvert_exporter": "python",
   "pygments_lexer": "ipython3",
   "version": "3.9.4"
  },
  "orig_nbformat": 2,
  "kernelspec": {
   "name": "python394jvsc74a57bd063fd5069d213b44bf678585dea6b12cceca9941eaf7f819626cde1f2670de90d",
   "display_name": "Python 3.9.4 64-bit"
  },
  "metadata": {
   "interpreter": {
    "hash": "63fd5069d213b44bf678585dea6b12cceca9941eaf7f819626cde1f2670de90d"
   }
  }
 },
 "nbformat": 4,
 "nbformat_minor": 2,
 "cells": [
  {
   "cell_type": "code",
   "execution_count": 2,
   "metadata": {},
   "outputs": [
    {
     "output_type": "stream",
     "name": "stdout",
     "text": [
      "FD after 2 years is 1113025.0\nMF after 2 years is 1155625.0\n"
     ]
    }
   ],
   "source": [
    "principal = 1000000\n",
    "fd_rate_of_intrest = 5.5\n",
    "mf_rate_of_intrest = 7.5\n",
    "period_in_years = 2\n",
    "fd_after_period = principal * (1+ fd_rate_of_intrest/100)** period_in_years\n",
    "mf_after_period = principal * (1+ mf_rate_of_intrest/100)** period_in_years\n",
    "\n",
    "print(f\"FD after {period_in_years} years is {fd_after_period}\")\n",
    "print(f\"MF after {period_in_years} years is {mf_after_period}\")"
   ]
  },
  {
   "cell_type": "code",
   "execution_count": null,
   "metadata": {},
   "outputs": [],
   "source": []
  }
 ]
}