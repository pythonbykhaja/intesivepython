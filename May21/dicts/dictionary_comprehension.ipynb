{
 "metadata": {
  "language_info": {
   "codemirror_mode": {
    "name": "ipython",
    "version": 3
   },
   "file_extension": ".py",
   "mimetype": "text/x-python",
   "name": "python",
   "nbconvert_exporter": "python",
   "pygments_lexer": "ipython3",
   "version": "3.9.4"
  },
  "orig_nbformat": 2,
  "kernelspec": {
   "name": "python394jvsc74a57bd063fd5069d213b44bf678585dea6b12cceca9941eaf7f819626cde1f2670de90d",
   "display_name": "Python 3.9.4 64-bit"
  },
  "metadata": {
   "interpreter": {
    "hash": "63fd5069d213b44bf678585dea6b12cceca9941eaf7f819626cde1f2670de90d"
   }
  }
 },
 "nbformat": 4,
 "nbformat_minor": 2,
 "cells": [
  {
   "source": [
    "Dictionary Comprehensions\n",
    "-------------------------\n"
   ],
   "cell_type": "markdown",
   "metadata": {}
  },
  {
   "source": [
    "### Program for letter count in a dictionary"
   ],
   "cell_type": "markdown",
   "metadata": {}
  },
  {
   "cell_type": "code",
   "execution_count": 1,
   "metadata": {},
   "outputs": [
    {
     "output_type": "stream",
     "name": "stdout",
     "text": [
      "{'l': 1, 'e': 2, 't': 2, 'r': 1, 's': 1}\n"
     ]
    }
   ],
   "source": [
    "# Traditional approach\n",
    "word = 'letters'\n",
    "letter_counts = {}\n",
    "for letter in word:\n",
    "    if letter in letter_counts:\n",
    "        letter_counts[letter] += 1\n",
    "    else:\n",
    "        letter_counts[letter] = 1\n",
    "print(letter_counts)"
   ]
  },
  {
   "cell_type": "code",
   "execution_count": 2,
   "metadata": {},
   "outputs": [
    {
     "output_type": "stream",
     "name": "stdout",
     "text": [
      "{'l': 1, 'e': 2, 't': 2, 'r': 1, 's': 1}\n"
     ]
    }
   ],
   "source": [
    "# Dictionary comprehensions\n",
    "letter_counts = { letter: word.count(letter) for letter in word }\n",
    "print(letter_counts)"
   ]
  },
  {
   "source": [
    "### Write a program to count vowels in the word\n",
    "\n",
    "```python\n",
    "vowels = 'aeiou'\n",
    "word = 'hypertension'\n",
    "{\n",
    "    'e': 2,\n",
    "    'i': 1\n",
    "    'o': 1\n",
    "}\n",
    "```"
   ],
   "cell_type": "markdown",
   "metadata": {}
  },
  {
   "cell_type": "code",
   "execution_count": 4,
   "metadata": {},
   "outputs": [
    {
     "output_type": "stream",
     "name": "stdout",
     "text": [
      "{'e': 2, 'i': 1, 'o': 1}\n"
     ]
    }
   ],
   "source": [
    "# Traditional approach\n",
    "words = 'hypertension'\n",
    "vowels = 'aeiou'\n",
    "vowel_count = {}\n",
    "for letter in words:\n",
    "    if letter in vowels:\n",
    "        if letter in vowel_count:\n",
    "            vowel_count[letter] += 1\n",
    "        else:\n",
    "            vowel_count[letter] = 1\n",
    "print(vowel_count)"
   ]
  },
  {
   "cell_type": "code",
   "execution_count": 5,
   "metadata": {},
   "outputs": [
    {
     "output_type": "stream",
     "name": "stdout",
     "text": [
      "{'e': 2, 'i': 0, 'o': 0}\n"
     ]
    }
   ],
   "source": [
    "# Dictionary comprehension\n",
    "words = 'hypertension'\n",
    "vowels = 'aeiou'\n",
    "vowel_counts = { letter: word.count(letter) for letter in words if letter in vowels}\n",
    "print(vowel_counts)"
   ]
  }
 ]
}