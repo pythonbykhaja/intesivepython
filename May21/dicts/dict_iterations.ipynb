{
 "metadata": {
  "language_info": {
   "codemirror_mode": {
    "name": "ipython",
    "version": 3
   },
   "file_extension": ".py",
   "mimetype": "text/x-python",
   "name": "python",
   "nbconvert_exporter": "python",
   "pygments_lexer": "ipython3",
   "version": "3.9.4"
  },
  "orig_nbformat": 2,
  "kernelspec": {
   "name": "python394jvsc74a57bd063fd5069d213b44bf678585dea6b12cceca9941eaf7f819626cde1f2670de90d",
   "display_name": "Python 3.9.4 64-bit"
  },
  "metadata": {
   "interpreter": {
    "hash": "63fd5069d213b44bf678585dea6b12cceca9941eaf7f819626cde1f2670de90d"
   }
  }
 },
 "nbformat": 4,
 "nbformat_minor": 2,
 "cells": [
  {
   "source": [
    "Iterate with for and in\n",
    "-----------------------"
   ],
   "cell_type": "markdown",
   "metadata": {}
  },
  {
   "cell_type": "code",
   "execution_count": 1,
   "metadata": {},
   "outputs": [
    {
     "output_type": "stream",
     "name": "stdout",
     "text": [
      "name\ncourses\naddress\n"
     ]
    }
   ],
   "source": [
    "institute = {'name': 'Quality Thought', 'courses': ['Python', 'DevOps', 'Cloud'], 'address': 'Hyderabad'}\n",
    "\n",
    "for info in institute:\n",
    "    print(info)"
   ]
  },
  {
   "cell_type": "code",
   "execution_count": 2,
   "metadata": {},
   "outputs": [
    {
     "output_type": "stream",
     "name": "stdout",
     "text": [
      "Quality Thought\n['Python', 'DevOps', 'Cloud']\nHyderabad\n"
     ]
    }
   ],
   "source": [
    "for info in institute.values():\n",
    "    print(info)"
   ]
  },
  {
   "cell_type": "code",
   "execution_count": 3,
   "metadata": {},
   "outputs": [
    {
     "output_type": "stream",
     "name": "stdout",
     "text": [
      "('name', 'Quality Thought')\n('courses', ['Python', 'DevOps', 'Cloud'])\n('address', 'Hyderabad')\n"
     ]
    }
   ],
   "source": [
    "for info in institute.items():\n",
    "    print(info)"
   ]
  },
  {
   "cell_type": "code",
   "execution_count": 4,
   "metadata": {},
   "outputs": [
    {
     "output_type": "stream",
     "name": "stdout",
     "text": [
      "name ===> Quality Thought\ncourses ===> ['Python', 'DevOps', 'Cloud']\naddress ===> Hyderabad\n"
     ]
    }
   ],
   "source": [
    "for info, value in institute.items():\n",
    "    print(f\"{info} ===> {value}\")\n"
   ]
  },
  {
   "cell_type": "code",
   "execution_count": 6,
   "metadata": {},
   "outputs": [
    {
     "output_type": "stream",
     "name": "stdout",
     "text": [
      "keys are ['name', 'courses', 'address']\nvalues are ['Quality Thought', ['Python', 'DevOps', 'Cloud'], 'Hyderabad']\n"
     ]
    }
   ],
   "source": [
    "print(f\"keys are {list(institute.keys())}\")\n",
    "print(f\"values are {list(institute.values())}\")"
   ]
  },
  {
   "cell_type": "code",
   "execution_count": null,
   "metadata": {},
   "outputs": [],
   "source": []
  }
 ]
}