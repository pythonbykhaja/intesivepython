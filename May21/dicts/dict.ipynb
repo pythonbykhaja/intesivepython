{
 "metadata": {
  "language_info": {
   "codemirror_mode": {
    "name": "ipython",
    "version": 3
   },
   "file_extension": ".py",
   "mimetype": "text/x-python",
   "name": "python",
   "nbconvert_exporter": "python",
   "pygments_lexer": "ipython3",
   "version": "3.9.4"
  },
  "orig_nbformat": 2,
  "kernelspec": {
   "name": "python394jvsc74a57bd063fd5069d213b44bf678585dea6b12cceca9941eaf7f819626cde1f2670de90d",
   "display_name": "Python 3.9.4 64-bit"
  },
  "metadata": {
   "interpreter": {
    "hash": "63fd5069d213b44bf678585dea6b12cceca9941eaf7f819626cde1f2670de90d"
   }
  }
 },
 "nbformat": 4,
 "nbformat_minor": 2,
 "cells": [
  {
   "source": [
    "Introduction to Python Dictionaries\n",
    "-----------------------------------\n"
   ],
   "cell_type": "markdown",
   "metadata": {}
  },
  {
   "cell_type": "code",
   "execution_count": 34,
   "metadata": {},
   "outputs": [
    {
     "output_type": "stream",
     "name": "stdout",
     "text": [
      "type is <class 'dict'>)\n"
     ]
    }
   ],
   "source": [
    "empty_dict = {}\n",
    "print(f\"type is {type(empty_dict)})\")"
   ]
  },
  {
   "source": [
    "#### Creating dictionaries with {}\n"
   ],
   "cell_type": "markdown",
   "metadata": {}
  },
  {
   "cell_type": "code",
   "execution_count": 35,
   "metadata": {},
   "outputs": [
    {
     "output_type": "stream",
     "name": "stdout",
     "text": [
      "{'name': 'QualityThought', 'faculty': 'khaja'}\n"
     ]
    }
   ],
   "source": [
    "institute = { 'name': 'QualityThought', 'faculty': 'khaja'}\n",
    "print(institute)"
   ]
  },
  {
   "source": [
    "#### Create with dict()\n"
   ],
   "cell_type": "markdown",
   "metadata": {}
  },
  {
   "cell_type": "code",
   "execution_count": 36,
   "metadata": {},
   "outputs": [
    {
     "output_type": "stream",
     "name": "stdout",
     "text": [
      "{'name': 'QualityThought', 'faculty': 'khaja'}\n"
     ]
    }
   ],
   "source": [
    "institute = dict(name='QualityThought', faculty='khaja')\n",
    "print(institute)"
   ]
  },
  {
   "source": [
    "### Convert with dict()"
   ],
   "cell_type": "markdown",
   "metadata": {}
  },
  {
   "cell_type": "code",
   "execution_count": 37,
   "metadata": {},
   "outputs": [
    {
     "output_type": "stream",
     "name": "stdout",
     "text": [
      "{'apple': 3, 'mango': 100, 'banana': 50}\n"
     ]
    }
   ],
   "source": [
    "list_of_list = [['apple',3], ['mango', 100], ['banana', 50]]\n",
    "fruit_dict = dict(list_of_list)\n",
    "print(fruit_dict)"
   ]
  },
  {
   "source": [
    "#### dictionary operations values with [key]"
   ],
   "cell_type": "markdown",
   "metadata": {}
  },
  {
   "cell_type": "code",
   "execution_count": 38,
   "metadata": {},
   "outputs": [
    {
     "output_type": "stream",
     "name": "stdout",
     "text": [
      "{'apple': 3, 'mango': 100, 'banana': 50}\n"
     ]
    }
   ],
   "source": [
    "fruit_sales = {'apple': 3, 'mango': 100, 'banana': 50}\n",
    "print(fruit_sales)"
   ]
  },
  {
   "cell_type": "code",
   "execution_count": 39,
   "metadata": {},
   "outputs": [
    {
     "output_type": "stream",
     "name": "stdout",
     "text": [
      "{'apple': 8, 'mango': 100, 'banana': 50}\n"
     ]
    }
   ],
   "source": [
    "# increment sale of apple by 5\n",
    "fruit_sales['apple'] += 5\n",
    "print(fruit_sales)"
   ]
  },
  {
   "cell_type": "code",
   "execution_count": 40,
   "metadata": {},
   "outputs": [
    {
     "output_type": "stream",
     "name": "stdout",
     "text": [
      "{'apple': 8, 'mango': 100, 'banana': 50, 'oranges': 10}\n"
     ]
    }
   ],
   "source": [
    "# add the sales of oranges\n",
    "fruit_sales['oranges'] = 10\n",
    "print(fruit_sales)"
   ]
  },
  {
   "cell_type": "code",
   "execution_count": 41,
   "metadata": {},
   "outputs": [
    {
     "output_type": "stream",
     "name": "stdout",
     "text": [
      "dict_keys(['apple', 'mango', 'banana', 'oranges'])\ndict_values([8, 100, 50, 10])\n[('apple', 8), ('mango', 100), ('banana', 50), ('oranges', 10)]\n"
     ]
    }
   ],
   "source": [
    "# Get all keys\n",
    "print(fruit_sales.keys())\n",
    "# Get all values\n",
    "print(fruit_sales.values())\n",
    "# Get all key value pairs\n",
    "print(list(fruit_sales.items()))"
   ]
  },
  {
   "cell_type": "code",
   "execution_count": 42,
   "metadata": {},
   "outputs": [
    {
     "output_type": "stream",
     "name": "stdout",
     "text": [
      "True\nFalse\n"
     ]
    }
   ],
   "source": [
    "# Verifying if the the key is present in dictionary\n",
    "print('apple' in fruit_sales)\n",
    "print('strawberry' in fruit_sales)"
   ]
  },
  {
   "cell_type": "code",
   "execution_count": 43,
   "metadata": {},
   "outputs": [
    {
     "output_type": "stream",
     "name": "stdout",
     "text": [
      "4\n"
     ]
    }
   ],
   "source": [
    "# Length of dictionary\n",
    "print(len(fruit_sales))"
   ]
  },
  {
   "cell_type": "code",
   "execution_count": 44,
   "metadata": {},
   "outputs": [
    {
     "output_type": "stream",
     "name": "stdout",
     "text": [
      "{'apple': 8, 'mango': 100, 'banana': 50, 'oranges': 10, 'tomato': 100, 'potato': 50, 'onion': 200}\n"
     ]
    }
   ],
   "source": [
    "vegetable_sales = { 'tomato': 100, 'potato': 50, 'onion': 200}\n",
    "# Combine vegetable_sales and fruit_sales into one dictionary\n",
    "shop_sales = {**fruit_sales, **vegetable_sales}\n",
    "print(shop_sales)"
   ]
  },
  {
   "cell_type": "code",
   "execution_count": 45,
   "metadata": {},
   "outputs": [
    {
     "output_type": "stream",
     "name": "stdout",
     "text": [
      "{'apple': 8, 'mango': 100, 'banana': 50, 'oranges': 10}\n{'apple': 8, 'mango': 100, 'banana': 50, 'oranges': 10, 'tomato': 100, 'potato': 50, 'onion': 200}\n"
     ]
    }
   ],
   "source": [
    "# Combining Dictionaries with update\n",
    "shop_sales_new = {}\n",
    "shop_sales_new.update(fruit_sales)\n",
    "print(shop_sales_new)\n",
    "shop_sales_new.update(vegetable_sales)\n",
    "print(shop_sales_new)"
   ]
  },
  {
   "cell_type": "code",
   "execution_count": 46,
   "metadata": {},
   "outputs": [
    {
     "output_type": "stream",
     "name": "stdout",
     "text": [
      "{'apple': 8, 'mango': 100, 'banana': 50, 'oranges': 10, 'tomato': 100, 'potato': 50, 'onion': 200}\n{'apple': 8, 'mango': 100, 'banana': 50, 'oranges': 10, 'tomato': 100, 'potato': 50}\n"
     ]
    }
   ],
   "source": [
    "# Deleting a key value pair in dictionary\n",
    "print(shop_sales_new)\n",
    "del shop_sales_new['onion']\n",
    "print(shop_sales_new)"
   ]
  },
  {
   "cell_type": "code",
   "execution_count": 47,
   "metadata": {},
   "outputs": [
    {
     "output_type": "stream",
     "name": "stdout",
     "text": [
      "50\n{'apple': 8, 'mango': 100, 'banana': 50, 'oranges': 10, 'tomato': 100}\n"
     ]
    }
   ],
   "source": [
    "# Deleting an tiem with pop\n",
    "print(shop_sales_new.pop('potato'))\n",
    "print(shop_sales_new)"
   ]
  },
  {
   "cell_type": "code",
   "execution_count": 48,
   "metadata": {},
   "outputs": [
    {
     "output_type": "stream",
     "name": "stdout",
     "text": [
      "{'apple': 8, 'mango': 100, 'banana': 50, 'oranges': 10, 'tomato': 100}\n",
      "{}\n"
     ]
    }
   ],
   "source": [
    "# Deleting all items with clear\n",
    "print(shop_sales_new)\n",
    "shop_sales_new.clear()\n",
    "print(shop_sales_new)"
   ]
  },
  {
   "cell_type": "code",
   "execution_count": 49,
   "metadata": {},
   "outputs": [
    {
     "output_type": "error",
     "ename": "KeyError",
     "evalue": "'apple'",
     "traceback": [
      "\u001b[1;31m---------------------------------------------------------------------------\u001b[0m",
      "\u001b[1;31mKeyError\u001b[0m                                  Traceback (most recent call last)",
      "\u001b[1;32m<ipython-input-49-ad7894bd46fb>\u001b[0m in \u001b[0;36m<module>\u001b[1;34m\u001b[0m\n\u001b[0;32m      1\u001b[0m \u001b[1;31m# Errors with dictionaries\u001b[0m\u001b[1;33m\u001b[0m\u001b[1;33m\u001b[0m\u001b[1;33m\u001b[0m\u001b[0m\n\u001b[0;32m      2\u001b[0m \u001b[1;31m# access the shop_sales_new with apple as key (dictionary is empty now)\u001b[0m\u001b[1;33m\u001b[0m\u001b[1;33m\u001b[0m\u001b[1;33m\u001b[0m\u001b[0m\n\u001b[1;32m----> 3\u001b[1;33m \u001b[0mprint\u001b[0m\u001b[1;33m(\u001b[0m\u001b[0mshop_sales_new\u001b[0m\u001b[1;33m[\u001b[0m\u001b[1;34m'apple'\u001b[0m\u001b[1;33m]\u001b[0m\u001b[1;33m)\u001b[0m\u001b[1;33m\u001b[0m\u001b[1;33m\u001b[0m\u001b[0m\n\u001b[0m",
      "\u001b[1;31mKeyError\u001b[0m: 'apple'"
     ]
    }
   ],
   "source": [
    "# Errors with dictionaries\n",
    "# access the shop_sales_new with apple as key (dictionary is empty now)\n",
    "print(shop_sales_new['apple'])"
   ]
  },
  {
   "cell_type": "code",
   "execution_count": null,
   "metadata": {},
   "outputs": [],
   "source": []
  }
 ]
}