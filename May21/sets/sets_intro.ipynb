{
 "metadata": {
  "language_info": {
   "codemirror_mode": {
    "name": "ipython",
    "version": 3
   },
   "file_extension": ".py",
   "mimetype": "text/x-python",
   "name": "python",
   "nbconvert_exporter": "python",
   "pygments_lexer": "ipython3",
   "version": "3.9.4"
  },
  "orig_nbformat": 2,
  "kernelspec": {
   "name": "python394jvsc74a57bd063fd5069d213b44bf678585dea6b12cceca9941eaf7f819626cde1f2670de90d",
   "display_name": "Python 3.9.4 64-bit"
  },
  "metadata": {
   "interpreter": {
    "hash": "63fd5069d213b44bf678585dea6b12cceca9941eaf7f819626cde1f2670de90d"
   }
  }
 },
 "nbformat": 4,
 "nbformat_minor": 2,
 "cells": [
  {
   "source": [
    "Sets\n",
    "----"
   ],
   "cell_type": "markdown",
   "metadata": {}
  },
  {
   "source": [
    "## Create with set()"
   ],
   "cell_type": "markdown",
   "metadata": {}
  },
  {
   "cell_type": "code",
   "execution_count": 1,
   "metadata": {},
   "outputs": [
    {
     "output_type": "stream",
     "name": "stdout",
     "text": [
      "<class 'set'>\nset() {0, 2, 4, 6, 8} {1, 3, 5, 7, 9}\n"
     ]
    }
   ],
   "source": [
    "empty_set = set()\n",
    "even_numbers = {0,2,4,6,8,}\n",
    "odd_numbers = {1,3,5,7,9}\n",
    "print(type(empty_set))\n",
    "print(empty_set,even_numbers,odd_numbers)"
   ]
  },
  {
   "source": [
    "### Converting with set()"
   ],
   "cell_type": "markdown",
   "metadata": {}
  },
  {
   "cell_type": "code",
   "execution_count": 2,
   "metadata": {},
   "outputs": [
    {
     "output_type": "stream",
     "name": "stdout",
     "text": [
      "{'l', 't', 'e', 'r', 's'}\n"
     ]
    }
   ],
   "source": [
    "word_set = set('letters')\n",
    "print(word_set)"
   ]
  },
  {
   "cell_type": "code",
   "execution_count": 5,
   "metadata": {},
   "outputs": [
    {
     "output_type": "stream",
     "name": "stdout",
     "text": [
      "{1, 2, 3, 4}\n{1, 2, 3, 4, 5, 6, 7}\n"
     ]
    }
   ],
   "source": [
    "number_set = set([1,2,3,4,1,2,3,4])\n",
    "print(number_set)\n",
    "number_set = set((1,2,3,4,5,5,6,7))\n",
    "print(number_set)\n"
   ]
  },
  {
   "cell_type": "code",
   "execution_count": 4,
   "metadata": {},
   "outputs": [
    {
     "output_type": "stream",
     "name": "stdout",
     "text": [
      "{'orange', 'mango', 'apple'}\n"
     ]
    }
   ],
   "source": [
    "fruit_dict = {'apple': 5, 'orange': 10, 'mango': 24}\n",
    "print(set(fruit_dict))"
   ]
  },
  {
   "cell_type": "code",
   "execution_count": 9,
   "metadata": {},
   "outputs": [
    {
     "output_type": "stream",
     "name": "stdout",
     "text": [
      "7\n[1, 2, 3, 4, 3, 4, 5]\n5\n{1, 2, 3, 4, 5}\n"
     ]
    }
   ],
   "source": [
    "new_numbers = [1,2,3,4,3,4,5]\n",
    "print(len(new_numbers))\n",
    "print(new_numbers)\n",
    "numbers_set = set(new_numbers)\n",
    "print(len(numbers_set))\n",
    "print(numbers_set)"
   ]
  },
  {
   "source": [
    "### Adding items with add() and Delete an item with remove()"
   ],
   "cell_type": "markdown",
   "metadata": {}
  },
  {
   "cell_type": "code",
   "execution_count": 10,
   "metadata": {},
   "outputs": [
    {
     "output_type": "stream",
     "name": "stdout",
     "text": [
      "{1, 2, 3, 4}\n"
     ]
    }
   ],
   "source": [
    "id_set = {1,2,3}\n",
    "id_set.add(4)\n",
    "print(id_set)"
   ]
  },
  {
   "cell_type": "code",
   "execution_count": 11,
   "metadata": {},
   "outputs": [
    {
     "output_type": "stream",
     "name": "stdout",
     "text": [
      "{1, 3, 4}\n"
     ]
    }
   ],
   "source": [
    "id_set.remove(2)\n",
    "print(id_set)"
   ]
  },
  {
   "source": [
    "### Iterating sets"
   ],
   "cell_type": "markdown",
   "metadata": {}
  },
  {
   "cell_type": "code",
   "execution_count": 13,
   "metadata": {},
   "outputs": [
    {
     "output_type": "stream",
     "name": "stdout",
     "text": [
      "chairs\nsofa\ntable\n"
     ]
    }
   ],
   "source": [
    "furnitures = set(['sofa', 'table','chairs'])\n",
    "for furniture in furnitures:\n",
    "    print(furniture)"
   ]
  },
  {
   "source": [
    "## Testing for a Value using in"
   ],
   "cell_type": "markdown",
   "metadata": {}
  },
  {
   "cell_type": "code",
   "execution_count": 16,
   "metadata": {},
   "outputs": [
    {
     "output_type": "stream",
     "name": "stdout",
     "text": [
      "True\nFalse\n"
     ]
    }
   ],
   "source": [
    "print('sofa' in furnitures)\n",
    "print('recliner' in furnitures)"
   ]
  },
  {
   "source": [
    "### Set Operations\n"
   ],
   "cell_type": "markdown",
   "metadata": {}
  },
  {
   "cell_type": "code",
   "execution_count": 19,
   "metadata": {},
   "outputs": [],
   "source": [
    "my_furniture = { 'sofa', 'bed', 'Dining Table'}\n",
    "your_furniture = {'sofa', 'bed', 'Recliner', 'TV Unit'}"
   ]
  },
  {
   "cell_type": "code",
   "execution_count": 23,
   "metadata": {},
   "outputs": [
    {
     "output_type": "stream",
     "name": "stdout",
     "text": [
      "{'sofa', 'bed'}\n{'sofa', 'bed'}\n"
     ]
    }
   ],
   "source": [
    "# intersection\n",
    "print(my_furniture & your_furniture)\n",
    "print(my_furniture.intersection(your_furniture))"
   ]
  },
  {
   "cell_type": "code",
   "execution_count": 26,
   "metadata": {},
   "outputs": [
    {
     "output_type": "stream",
     "name": "stdout",
     "text": [
      "{'Recliner', 'sofa', 'bed', 'Dining Table', 'TV Unit'}\n{'Recliner', 'sofa', 'bed', 'Dining Table', 'TV Unit'}\n"
     ]
    }
   ],
   "source": [
    "#union\n",
    "print(my_furniture | your_furniture)\n",
    "print(my_furniture.union(your_furniture))"
   ]
  },
  {
   "cell_type": "code",
   "execution_count": 29,
   "metadata": {},
   "outputs": [
    {
     "output_type": "stream",
     "name": "stdout",
     "text": [
      "{'Dining Table'}\n{'Recliner', 'TV Unit'}\n{'Recliner', 'TV Unit'}\n"
     ]
    }
   ],
   "source": [
    "# difference\n",
    "print(my_furniture-your_furniture)\n",
    "print(your_furniture-my_furniture)\n",
    "print(your_furniture.difference(my_furniture))"
   ]
  },
  {
   "cell_type": "code",
   "execution_count": 31,
   "metadata": {},
   "outputs": [
    {
     "output_type": "stream",
     "name": "stdout",
     "text": [
      "{'Recliner', 'Dining Table', 'TV Unit'}\n{'Recliner', 'Dining Table', 'TV Unit'}\n"
     ]
    }
   ],
   "source": [
    "# Exclusive or \n",
    "print(my_furniture ^ your_furniture)\n",
    "print(my_furniture.symmetric_difference(your_furniture))"
   ]
  },
  {
   "cell_type": "code",
   "execution_count": 36,
   "metadata": {},
   "outputs": [
    {
     "output_type": "stream",
     "name": "stdout",
     "text": [
      "True\nTrue\nTrue\nTrue\n"
     ]
    }
   ],
   "source": [
    "all_furnitures = {'sofa', 'bed', 'Dining Table', 'Recliner', 'TV Unit', 'Wardrobes', 'cofeetable'}\n",
    "print(my_furniture.issubset(all_furnitures))\n",
    "print(all_furnitures.issuperset(your_furniture))\n",
    "print(my_furniture <= all_furnitures)\n",
    "print(all_furnitures >= your_furniture)\n",
    "# subset <=\n",
    "# proper subset <\n",
    "# superset >=\n"
   ]
  },
  {
   "source": [
    "Set comprehensions\n",
    "------------------\n",
    "\n",
    "Syntax: ` {expression for expression in iterable }`\n",
    "\n"
   ],
   "cell_type": "markdown",
   "metadata": {}
  },
  {
   "cell_type": "code",
   "execution_count": 37,
   "metadata": {},
   "outputs": [
    {
     "output_type": "stream",
     "name": "stdout",
     "text": [
      "{2, 4, 6, 8, 10, 12, 14, 16, 18}\n{1, 3, 5, 7, 9, 11, 13, 15, 17, 19}\n"
     ]
    }
   ],
   "source": [
    "even_number_set = { number for number in range(1,20) if number%2 ==0 }\n",
    "print(even_number_set)\n",
    "\n",
    "odd_number_set = { number for number in range(1,20) if number%2 != 0 }\n",
    "print(odd_number_set)"
   ]
  },
  {
   "source": [
    "frozen set\n",
    "---------- "
   ],
   "cell_type": "markdown",
   "metadata": {}
  },
  {
   "cell_type": "code",
   "execution_count": 38,
   "metadata": {},
   "outputs": [
    {
     "output_type": "stream",
     "name": "stdout",
     "text": [
      "frozenset({3, 5, 7})\n"
     ]
    }
   ],
   "source": [
    "# Creating immutable sets with frozenset\n",
    "\n",
    "my_numbers = frozenset([3,5,7])\n",
    "print(my_numbers)\n"
   ]
  },
  {
   "cell_type": "code",
   "execution_count": 39,
   "metadata": {},
   "outputs": [
    {
     "output_type": "error",
     "ename": "AttributeError",
     "evalue": "'frozenset' object has no attribute 'add'",
     "traceback": [
      "\u001b[1;31m---------------------------------------------------------------------------\u001b[0m",
      "\u001b[1;31mAttributeError\u001b[0m                            Traceback (most recent call last)",
      "\u001b[1;32m<ipython-input-39-abafbabbf368>\u001b[0m in \u001b[0;36m<module>\u001b[1;34m\u001b[0m\n\u001b[1;32m----> 1\u001b[1;33m \u001b[0mmy_numbers\u001b[0m\u001b[1;33m.\u001b[0m\u001b[0madd\u001b[0m\u001b[1;33m(\u001b[0m\u001b[1;36m9\u001b[0m\u001b[1;33m)\u001b[0m\u001b[1;33m\u001b[0m\u001b[1;33m\u001b[0m\u001b[0m\n\u001b[0m",
      "\u001b[1;31mAttributeError\u001b[0m: 'frozenset' object has no attribute 'add'"
     ]
    }
   ],
   "source": [
    "my_numbers.add(9)"
   ]
  }
 ]
}