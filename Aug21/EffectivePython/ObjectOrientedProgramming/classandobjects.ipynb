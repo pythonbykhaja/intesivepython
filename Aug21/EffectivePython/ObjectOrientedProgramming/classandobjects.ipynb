{
 "cells": [
  {
   "cell_type": "markdown",
   "source": [
    "Adding a Method"
   ],
   "metadata": {}
  },
  {
   "cell_type": "code",
   "execution_count": 1,
   "source": [
    "class Car():\r\n",
    "    def describe(self):\r\n",
    "        print(\"I'm a car\")\r\n",
    "        \r\n",
    "    def start(self):\r\n",
    "        print(\"Started\")\r\n",
    "\r\n",
    "    def stop(self):\r\n",
    "        print(\"Stopped\")\r\n",
    "\r\n",
    "class SUV(Car):\r\n",
    "    def describe(self):\r\n",
    "        print(\"I'm a SUV\")\r\n",
    "\r\n",
    "    def open_roof_top(self):\r\n",
    "        print(\"Opened\")\r\n",
    "\r\n",
    "    def close_root_top(self):\r\n",
    "        print(\"Closed\")"
   ],
   "outputs": [],
   "metadata": {}
  },
  {
   "cell_type": "code",
   "execution_count": 2,
   "source": [
    "swift = Car()\r\n",
    "swift.describe()\r\n",
    "swift.start()\r\n",
    "swift.stop()"
   ],
   "outputs": [
    {
     "output_type": "stream",
     "name": "stdout",
     "text": [
      "I'm a car\n",
      "Started\n",
      "Stopped\n"
     ]
    }
   ],
   "metadata": {}
  },
  {
   "cell_type": "code",
   "execution_count": 3,
   "source": [
    "creta = SUV()\r\n",
    "creta.describe()\r\n",
    "creta.start()\r\n",
    "creta.open_roof_top()\r\n",
    "creta.close_root_top()\r\n",
    "creta.stop()"
   ],
   "outputs": [
    {
     "output_type": "stream",
     "name": "stdout",
     "text": [
      "I'm a SUV\n",
      "Started\n",
      "Opened\n",
      "Closed\n",
      "Stopped\n"
     ]
    }
   ],
   "metadata": {}
  },
  {
   "cell_type": "markdown",
   "source": [
    "Multiple Inheritance\r\n",
    "---------------------"
   ],
   "metadata": {}
  },
  {
   "cell_type": "code",
   "execution_count": 4,
   "source": [
    "class Animal:\r\n",
    "    def says(self) -> None:\r\n",
    "        print(\"I Speak\")\r\n",
    "\r\n",
    "class Horse(Animal):\r\n",
    "    def says(self) -> None:\r\n",
    "        print(\"Neigh!\")\r\n",
    "\r\n",
    "class Donkey(Animal):\r\n",
    "    def says(self) -> None:\r\n",
    "        print(\"Hee-haw!\")\r\n",
    "\r\n",
    "class Mule(Donkey, Horse):\r\n",
    "    pass\r\n",
    "\r\n",
    "class Hinny(Horse, Donkey):\r\n",
    "    pass"
   ],
   "outputs": [],
   "metadata": {}
  },
  {
   "cell_type": "markdown",
   "source": [
    "Method Resolution order\r\n",
    "-----------------------\r\n",
    "\r\n",
    "* In python to understands who wins depends on Method Resolution order `mro`.\r\n",
    "* Each python class has a method called as mro that returns list of classes that would be visited to find a method or attribute.\r\n",
    "* We have an attribute `__mro__` which is a tuple of classes"
   ],
   "metadata": {}
  },
  {
   "cell_type": "code",
   "execution_count": 5,
   "source": [
    "Animal.mro()\r\n",
    "print(Horse.mro())\r\n",
    "h = Horse()\r\n",
    "h.says()\r\n",
    "h.__str__()\r\n",
    "print(Mule.mro())\r\n",
    "\r\n",
    "m = Mule()\r\n",
    "m.says()\r\n",
    "\r\n",
    "h = Hinny()\r\n",
    "print(Hinny.mro())\r\n",
    "h.says()"
   ],
   "outputs": [
    {
     "output_type": "stream",
     "name": "stdout",
     "text": [
      "[<class '__main__.Horse'>, <class '__main__.Animal'>, <class 'object'>]\n",
      "Neigh!\n",
      "[<class '__main__.Mule'>, <class '__main__.Donkey'>, <class '__main__.Horse'>, <class '__main__.Animal'>, <class 'object'>]\n",
      "Hee-haw!\n",
      "[<class '__main__.Hinny'>, <class '__main__.Horse'>, <class '__main__.Donkey'>, <class '__main__.Animal'>, <class 'object'>]\n",
      "Neigh!\n"
     ]
    }
   ],
   "metadata": {}
  },
  {
   "cell_type": "markdown",
   "source": [
    "Attribute Access\r\n",
    "----------------\r\n",
    "* So far we are directly accessing attributes by using object"
   ],
   "metadata": {}
  },
  {
   "cell_type": "code",
   "execution_count": 6,
   "source": [
    "class Student:\r\n",
    "    def __init__(self, name) -> None:\r\n",
    "        self.name = name\r\n",
    "\r\n",
    "s1 = Student('ram')\r\n",
    "s2 = Student('shyam')\r\n",
    "print(s1.name)\r\n",
    "print(s2.name)"
   ],
   "outputs": [
    {
     "output_type": "stream",
     "name": "stdout",
     "text": [
      "ram\n",
      "shyam\n"
     ]
    }
   ],
   "metadata": {}
  },
  {
   "cell_type": "markdown",
   "source": [
    "Properties\r\n",
    "----------\r\n",
    "* Python supports some decorators which we can use to set the properties rather than directly exposing the members"
   ],
   "metadata": {}
  },
  {
   "cell_type": "code",
   "execution_count": 7,
   "source": [
    "class Student:\r\n",
    "    def __init__(self,name) -> None:\r\n",
    "        self.__name = name\r\n",
    "\r\n",
    "    @property\r\n",
    "    def name(self):\r\n",
    "        return self.__name\r\n",
    "        "
   ],
   "outputs": [],
   "metadata": {}
  },
  {
   "cell_type": "code",
   "execution_count": null,
   "source": [
    "s1 = Student('ram')\r\n",
    "print(s1.__name)"
   ],
   "outputs": [
    {
     "output_type": "error",
     "ename": "Error",
     "evalue": "Session cannot generate requests",
     "traceback": [
      "Error: Session cannot generate requests",
      "at w.executeCodeCell (c:\\Users\\qtkha\\.vscode\\extensions\\ms-toolsai.jupyter-2021.8.1236758218\\out\\client\\extension.js:90:327199)",
      "at w.execute (c:\\Users\\qtkha\\.vscode\\extensions\\ms-toolsai.jupyter-2021.8.1236758218\\out\\client\\extension.js:90:326520)",
      "at w.start (c:\\Users\\qtkha\\.vscode\\extensions\\ms-toolsai.jupyter-2021.8.1236758218\\out\\client\\extension.js:90:322336)",
      "at runMicrotasks (<anonymous>)",
      "at processTicksAndRejections (internal/process/task_queues.js:93:5)",
      "at async t.CellExecutionQueue.executeQueuedCells (c:\\Users\\qtkha\\.vscode\\extensions\\ms-toolsai.jupyter-2021.8.1236758218\\out\\client\\extension.js:90:336863)",
      "at async t.CellExecutionQueue.start (c:\\Users\\qtkha\\.vscode\\extensions\\ms-toolsai.jupyter-2021.8.1236758218\\out\\client\\extension.js:90:336403)"
     ]
    }
   ],
   "metadata": {}
  }
 ],
 "metadata": {
  "orig_nbformat": 4,
  "language_info": {
   "name": "python",
   "version": "3.9.4",
   "mimetype": "text/x-python",
   "codemirror_mode": {
    "name": "ipython",
    "version": 3
   },
   "pygments_lexer": "ipython3",
   "nbconvert_exporter": "python",
   "file_extension": ".py"
  },
  "kernelspec": {
   "name": "python3",
   "display_name": "Python 3.9.4 64-bit"
  },
  "interpreter": {
   "hash": "63fd5069d213b44bf678585dea6b12cceca9941eaf7f819626cde1f2670de90d"
  }
 },
 "nbformat": 4,
 "nbformat_minor": 2
}