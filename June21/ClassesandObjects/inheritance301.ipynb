{
 "metadata": {
  "language_info": {
   "codemirror_mode": {
    "name": "ipython",
    "version": 3
   },
   "file_extension": ".py",
   "mimetype": "text/x-python",
   "name": "python",
   "nbconvert_exporter": "python",
   "pygments_lexer": "ipython3",
   "version": "3.9.4"
  },
  "orig_nbformat": 2,
  "kernelspec": {
   "name": "python394jvsc74a57bd063fd5069d213b44bf678585dea6b12cceca9941eaf7f819626cde1f2670de90d",
   "display_name": "Python 3.9.4 64-bit"
  },
  "metadata": {
   "interpreter": {
    "hash": "63fd5069d213b44bf678585dea6b12cceca9941eaf7f819626cde1f2670de90d"
   }
  }
 },
 "nbformat": 4,
 "nbformat_minor": 2,
 "cells": [
  {
   "source": [
    "Adding a Method\n",
    "---------------"
   ],
   "cell_type": "markdown",
   "metadata": {}
  },
  {
   "cell_type": "code",
   "execution_count": 4,
   "metadata": {},
   "outputs": [],
   "source": [
    "class Mobile:\n",
    "    def __init__(self, model, manufacturer):\n",
    "        self.model = model\n",
    "        self.manufacturer = manufacturer\n",
    "\n",
    "    def dial(self, number):\n",
    "        print(f\"Dialing {number} for {self.model} by {self.manufacturer}\")\n",
    "\n",
    "class SmartMobile(Mobile):\n",
    "    def __init__(self, model, manufacturer, os_version):\n",
    "        super().__init__(model, manufacturer)\n",
    "        self.os_version = os_version\n",
    "\n",
    "    def browse(self, url):\n",
    "        # additional method added in the child class\n",
    "        print(f\"Browsing {url} from {self.model} by {self.manufacturer}\")\n"
   ]
  },
  {
   "cell_type": "code",
   "execution_count": 5,
   "metadata": {},
   "outputs": [
    {
     "output_type": "stream",
     "name": "stdout",
     "text": [
      "Dialing 99999999 for 1100 by Nokia\nDialing 8888888 for 12 PRO by Apple\nBrowsing http://www.google.com from 12 PRO by Apple\n"
     ]
    }
   ],
   "source": [
    "nokia_basic = Mobile('1100', 'Nokia')\n",
    "nokia_basic.dial('99999999')\n",
    "apple_iphone = SmartMobile('12 PRO', 'Apple', os_version = '14.1')\n",
    "apple_iphone.dial('8888888')\n",
    "apple_iphone.browse('http://www.google.com')\n"
   ]
  },
  {
   "cell_type": "code",
   "execution_count": null,
   "metadata": {},
   "outputs": [],
   "source": []
  }
 ]
}