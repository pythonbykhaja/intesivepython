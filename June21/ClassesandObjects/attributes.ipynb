{
 "metadata": {
  "language_info": {
   "codemirror_mode": {
    "name": "ipython",
    "version": 3
   },
   "file_extension": ".py",
   "mimetype": "text/x-python",
   "name": "python",
   "nbconvert_exporter": "python",
   "pygments_lexer": "ipython3",
   "version": "3.9.4"
  },
  "orig_nbformat": 2,
  "kernelspec": {
   "name": "python394jvsc74a57bd063fd5069d213b44bf678585dea6b12cceca9941eaf7f819626cde1f2670de90d",
   "display_name": "Python 3.9.4 64-bit"
  },
  "metadata": {
   "interpreter": {
    "hash": "63fd5069d213b44bf678585dea6b12cceca9941eaf7f819626cde1f2670de90d"
   }
  }
 },
 "nbformat": 4,
 "nbformat_minor": 2,
 "cells": [
  {
   "source": [
    "Attributes in Python Classes\n",
    "----------------------------"
   ],
   "cell_type": "markdown",
   "metadata": {}
  },
  {
   "cell_type": "code",
   "execution_count": 5,
   "metadata": {},
   "outputs": [],
   "source": [
    "# lets define a class with class attribute\n",
    "class Car():\n",
    "    # class level attribute\n",
    "    count = 0"
   ]
  },
  {
   "cell_type": "code",
   "execution_count": 6,
   "metadata": {},
   "outputs": [
    {
     "output_type": "stream",
     "name": "stdout",
     "text": [
      "0\n1\n2\n"
     ]
    }
   ],
   "source": [
    "print(Car.count)\n",
    "Car.count += 1\n",
    "print(Car.count)\n",
    "Car.count += 1\n",
    "print(Car.count)"
   ]
  },
  {
   "cell_type": "code",
   "execution_count": 7,
   "metadata": {},
   "outputs": [
    {
     "output_type": "stream",
     "name": "stdout",
     "text": [
      "2 => 2302059506000\n2 => 2302059506000\n2 => 2302059506000\n"
     ]
    }
   ],
   "source": [
    "# class level attribute can be accessed from objects also\n",
    "car_1 = Car()\n",
    "car_2 = Car()\n",
    "print(f\"{car_1.count} => {id(car_1.count)}\")\n",
    "print(f\"{car_2.count} => {id(car_2.count)}\")\n",
    "print(f\"{Car.count} => {id(Car.count)}\")\n"
   ]
  },
  {
   "cell_type": "code",
   "execution_count": 8,
   "metadata": {},
   "outputs": [],
   "source": [
    "class Car:\n",
    "    count = 0\n",
    "    def __init__(self, brand, model, reg_no):\n",
    "        self.brand = brand\n",
    "        self.model = model\n",
    "        self.reg_no = reg_no\n",
    "        Car.count += 1"
   ]
  },
  {
   "cell_type": "code",
   "execution_count": 9,
   "metadata": {},
   "outputs": [
    {
     "output_type": "stream",
     "name": "stdout",
     "text": [
      "1\n2\n"
     ]
    }
   ],
   "source": [
    "# maruti swift\n",
    "ms = Car('Maruti', 'Swift', '1234')\n",
    "print(Car.count)\n",
    "# Hydundai Creta\n",
    "hc = Car('Hyundai', 'Creata', '1235')\n",
    "print(Car.count)"
   ]
  },
  {
   "cell_type": "code",
   "execution_count": 10,
   "metadata": {},
   "outputs": [
    {
     "output_type": "stream",
     "name": "stdout",
     "text": [
      "Maruti, Swift, 1234\nHyundai, Creata, 1235\n"
     ]
    }
   ],
   "source": [
    "print(f\"{ms.brand}, {ms.model}, {ms.reg_no}\")\n",
    "print(f\"{hc.brand}, {hc.model}, {hc.reg_no}\")"
   ]
  },
  {
   "cell_type": "code",
   "execution_count": null,
   "metadata": {},
   "outputs": [],
   "source": []
  }
 ]
}