{
 "metadata": {
  "language_info": {
   "codemirror_mode": {
    "name": "ipython",
    "version": 3
   },
   "file_extension": ".py",
   "mimetype": "text/x-python",
   "name": "python",
   "nbconvert_exporter": "python",
   "pygments_lexer": "ipython3",
   "version": "3.9.4"
  },
  "orig_nbformat": 2,
  "kernelspec": {
   "name": "python394jvsc74a57bd063fd5069d213b44bf678585dea6b12cceca9941eaf7f819626cde1f2670de90d",
   "display_name": "Python 3.9.4 64-bit"
  },
  "metadata": {
   "interpreter": {
    "hash": "63fd5069d213b44bf678585dea6b12cceca9941eaf7f819626cde1f2670de90d"
   }
  }
 },
 "nbformat": 4,
 "nbformat_minor": 2,
 "cells": [
  {
   "source": [
    "Inheritance examples\n",
    "--------------------"
   ],
   "cell_type": "markdown",
   "metadata": {}
  },
  {
   "cell_type": "code",
   "execution_count": 9,
   "metadata": {},
   "outputs": [],
   "source": [
    "class Mobile:\n",
    "    def dial(self, number):\n",
    "        print(f\"dialing number {number}\")\n",
    "\n",
    "class SmartMobile(Mobile):\n",
    "    pass"
   ]
  },
  {
   "cell_type": "code",
   "execution_count": 10,
   "metadata": {},
   "outputs": [
    {
     "output_type": "stream",
     "name": "stdout",
     "text": [
      "dialing number 999999999\ndialing number 88888888\n"
     ]
    }
   ],
   "source": [
    "m1 = Mobile()\n",
    "m1.dial('999999999')\n",
    "\n",
    "sm1 = SmartMobile()\n",
    "# using dial functionality of the Parent Class\n",
    "sm1.dial('88888888')"
   ]
  },
  {
   "cell_type": "code",
   "execution_count": 11,
   "metadata": {},
   "outputs": [],
   "source": [
    "# Overriding a Method\n",
    "class Mobile:\n",
    "    def dial(self, number):\n",
    "        print(f\"dialing number {number}\")\n",
    "\n",
    "    def ring(self):\n",
    "        print(\"ringing using built in tones.....\")\n",
    "\n",
    "class SmartMobile(Mobile):\n",
    "\n",
    "    def ring(self):\n",
    "        \"\"\"\n",
    "        overriding a Method\n",
    "        \"\"\"\n",
    "        print(\"ringing using custom ring tones .... \")"
   ]
  },
  {
   "cell_type": "code",
   "execution_count": 12,
   "metadata": {},
   "outputs": [
    {
     "output_type": "stream",
     "name": "stdout",
     "text": [
      "ringing using built in tones.....\nringing using custom ring tones .... \n"
     ]
    }
   ],
   "source": [
    "m1 = Mobile()\n",
    "m1.ring()\n",
    "\n",
    "sm1 = SmartMobile()\n",
    "sm1.ring()"
   ]
  }
 ]
}