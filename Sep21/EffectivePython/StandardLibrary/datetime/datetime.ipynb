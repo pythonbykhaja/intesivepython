{
 "cells": [
  {
   "cell_type": "markdown",
   "source": [
    "Datetime\r\n",
    "--------"
   ],
   "metadata": {}
  },
  {
   "cell_type": "code",
   "execution_count": 4,
   "source": [
    "import datetime\r\n",
    "datetime.date.today()"
   ],
   "outputs": [
    {
     "output_type": "execute_result",
     "data": {
      "text/plain": [
       "datetime.date(2021, 9, 19)"
      ]
     },
     "metadata": {},
     "execution_count": 4
    }
   ],
   "metadata": {}
  },
  {
   "cell_type": "code",
   "execution_count": 5,
   "source": [
    "# timezone\r\n",
    "from dateutil import tz\r\n",
    "datetime.datetime(1947,8,15,00,00,tzinfo=tz.gettz('Asia/Kolkata'))"
   ],
   "outputs": [
    {
     "output_type": "execute_result",
     "data": {
      "text/plain": [
       "datetime.datetime(1947, 8, 15, 0, 0, tzinfo=tzfile('Asia/Calcutta'))"
      ]
     },
     "metadata": {},
     "execution_count": 5
    }
   ],
   "metadata": {}
  },
  {
   "cell_type": "code",
   "execution_count": 12,
   "source": [
    "d1 = datetime.datetime(1947,8,15,00,00,tzinfo=tz.gettz('Asia/Kolkata'))\r\n",
    "d1_la = d1.astimezone(tz.gettz(\"America/Los_Angeles\"))\r\n",
    "print(d1.hour)\r\n",
    "print(d1_la.hour)\r\n",
    "print(d1)\r\n",
    "print(d1_la)"
   ],
   "outputs": [
    {
     "output_type": "stream",
     "name": "stdout",
     "text": [
      "0\n",
      "10\n",
      "1947-08-15 00:00:00+05:30\n",
      "1947-08-14 10:30:00-08:00\n"
     ]
    }
   ],
   "metadata": {}
  },
  {
   "cell_type": "markdown",
   "source": [
    "Calculating the time delta b/w two datetime objects\r\n",
    "---------------------------------------------------tzinfo"
   ],
   "metadata": {}
  },
  {
   "cell_type": "code",
   "execution_count": 19,
   "source": [
    "import datetime\r\n",
    "d1 = datetime.datetime.now()#datetime.datetime(2021,9,19,12,51,tzinfo=datetime.timezone.utc)\r\n",
    "d2 = datetime.datetime(2020,3,15,00,00)\r\n",
    "delta = d1-d2\r\n",
    "print(delta)\r\n",
    "print(f\"Total seconds: {delta.total_seconds()}, days: {delta.days}\")"
   ],
   "outputs": [
    {
     "output_type": "stream",
     "name": "stdout",
     "text": [
      "553 days, 12:56:10.879911\n",
      "Total seconds: 47825770.879911, days: 553\n"
     ]
    }
   ],
   "metadata": {}
  },
  {
   "cell_type": "markdown",
   "source": [
    "Epoch Time\r\n",
    "----------"
   ],
   "metadata": {}
  },
  {
   "cell_type": "code",
   "execution_count": 22,
   "source": [
    "import datetime\r\n",
    "import time\r\n",
    "\r\n",
    "time_now = time.time()\r\n",
    "print(time_now)\r\n",
    "datetime_now = datetime.datetime.now(datetime.timezone.utc)\r\n",
    "print(datetime_now)\r\n",
    "\r\n",
    "epoch = datetime_now - datetime.timedelta(seconds=time_now)\r\n",
    "print(epoch)"
   ],
   "outputs": [
    {
     "output_type": "stream",
     "name": "stdout",
     "text": [
      "1632036669.7402174\n",
      "2021-09-19 07:31:09.741192+00:00\n",
      "1970-01-01 00:00:00.000975+00:00\n"
     ]
    }
   ],
   "metadata": {}
  },
  {
   "cell_type": "markdown",
   "source": [
    "# calender"
   ],
   "metadata": {}
  },
  {
   "cell_type": "code",
   "execution_count": 24,
   "source": [
    "import calendar\r\n",
    "c = calendar.Calendar()\r\n",
    "#list(c.itermonthdates(2019,2))\r\n",
    "list(d for d in c.itermonthdates(2019,2) if d.month == 2)"
   ],
   "outputs": [
    {
     "output_type": "execute_result",
     "data": {
      "text/plain": [
       "[datetime.date(2019, 2, 1),\n",
       " datetime.date(2019, 2, 2),\n",
       " datetime.date(2019, 2, 3),\n",
       " datetime.date(2019, 2, 4),\n",
       " datetime.date(2019, 2, 5),\n",
       " datetime.date(2019, 2, 6),\n",
       " datetime.date(2019, 2, 7),\n",
       " datetime.date(2019, 2, 8),\n",
       " datetime.date(2019, 2, 9),\n",
       " datetime.date(2019, 2, 10),\n",
       " datetime.date(2019, 2, 11),\n",
       " datetime.date(2019, 2, 12),\n",
       " datetime.date(2019, 2, 13),\n",
       " datetime.date(2019, 2, 14),\n",
       " datetime.date(2019, 2, 15),\n",
       " datetime.date(2019, 2, 16),\n",
       " datetime.date(2019, 2, 17),\n",
       " datetime.date(2019, 2, 18),\n",
       " datetime.date(2019, 2, 19),\n",
       " datetime.date(2019, 2, 20),\n",
       " datetime.date(2019, 2, 21),\n",
       " datetime.date(2019, 2, 22),\n",
       " datetime.date(2019, 2, 23),\n",
       " datetime.date(2019, 2, 24),\n",
       " datetime.date(2019, 2, 25),\n",
       " datetime.date(2019, 2, 26),\n",
       " datetime.date(2019, 2, 27),\n",
       " datetime.date(2019, 2, 28)]"
      ]
     },
     "metadata": {},
     "execution_count": 24
    }
   ],
   "metadata": {}
  }
 ],
 "metadata": {
  "orig_nbformat": 4,
  "language_info": {
   "name": "python",
   "version": "3.9.4",
   "mimetype": "text/x-python",
   "codemirror_mode": {
    "name": "ipython",
    "version": 3
   },
   "pygments_lexer": "ipython3",
   "nbconvert_exporter": "python",
   "file_extension": ".py"
  },
  "kernelspec": {
   "name": "python3",
   "display_name": "Python 3.9.4 64-bit"
  },
  "interpreter": {
   "hash": "63fd5069d213b44bf678585dea6b12cceca9941eaf7f819626cde1f2670de90d"
  }
 },
 "nbformat": 4,
 "nbformat_minor": 2
}