{
 "cells": [
  {
   "cell_type": "markdown",
   "source": [
    "Iterate with for and in\r\n",
    "------------------------"
   ],
   "metadata": {}
  },
  {
   "cell_type": "code",
   "execution_count": 3,
   "source": [
    "cars = ['creta', 'xuv', 'seltos', 'hexa']\r\n",
    "for car in cars:\r\n",
    "    print(car)"
   ],
   "outputs": [
    {
     "output_type": "stream",
     "name": "stdout",
     "text": [
      "creta\n",
      "xuv\n",
      "seltos\n",
      "hexa\n"
     ]
    }
   ],
   "metadata": {}
  },
  {
   "cell_type": "code",
   "execution_count": 4,
   "source": [
    "for car in cars:\r\n",
    "    if car.startswith('c') or car.startswith('h'):\r\n",
    "        print(car)\r\n",
    "    "
   ],
   "outputs": [
    {
     "output_type": "stream",
     "name": "stdout",
     "text": [
      "creta\n",
      "hexa\n"
     ]
    }
   ],
   "metadata": {}
  },
  {
   "cell_type": "markdown",
   "source": [
    "Iterating multiple sequences with zip()\r\n",
    "---------------------------------------"
   ],
   "metadata": {}
  },
  {
   "cell_type": "code",
   "execution_count": 6,
   "source": [
    "days = ['Monday', 'Tuesday', 'Wednesday', 'Thursday', 'Friday']\r\n",
    "fruits = ['Banana', 'Apple', 'Orange', 'Grapes', 'Strawberry']\r\n",
    "drinks = ['coffee', 'tea', 'green tea', 'lemon tea', 'ginger tea']\r\n",
    "\r\n",
    "for day, fruit, drink in zip(days, fruits, drinks):\r\n",
    "    print(f\"day: {day}\\t fruit: {fruit}\\t drink: {drink}\")\r\n",
    "\r\n"
   ],
   "outputs": [
    {
     "output_type": "stream",
     "name": "stdout",
     "text": [
      "day: Monday\t fruit: Banana\t drink: coffee\n",
      "day: Tuesday\t fruit: Apple\t drink: tea\n",
      "day: Wednesday\t fruit: Orange\t drink: green tea\n",
      "day: Thursday\t fruit: Grapes\t drink: lemon tea\n",
      "day: Friday\t fruit: Strawberry\t drink: ginger tea\n"
     ]
    }
   ],
   "metadata": {}
  },
  {
   "cell_type": "code",
   "execution_count": 8,
   "source": [
    "# create dictionary from two lists\r\n",
    "fruit_dict = dict(zip(days, fruits))\r\n",
    "drink_dict = dict(zip(days, drinks))\r\n",
    "print(fruit_dict)\r\n",
    "print(drink_dict)"
   ],
   "outputs": [
    {
     "output_type": "stream",
     "name": "stdout",
     "text": [
      "{'Monday': 'Banana', 'Tuesday': 'Apple', 'Wednesday': 'Orange', 'Thursday': 'Grapes', 'Friday': 'Strawberry'}\n",
      "{'Monday': 'coffee', 'Tuesday': 'tea', 'Wednesday': 'green tea', 'Thursday': 'lemon tea', 'Friday': 'ginger tea'}\n"
     ]
    }
   ],
   "metadata": {}
  },
  {
   "cell_type": "markdown",
   "source": [
    "Creating a List with Comprehensions\r\n",
    "-----------------------------------\r\n",
    "* Here we will look at how to create a list with a _list comprehension_"
   ],
   "metadata": {}
  },
  {
   "cell_type": "code",
   "execution_count": 9,
   "source": [
    "# normal list creation\r\n",
    "numbers = []\r\n",
    "numbers.append(1)\r\n",
    "numbers.append(2)\r\n",
    "numbers.append(3)\r\n",
    "numbers.append(4)\r\n",
    "numbers.append(5)\r\n",
    "numbers"
   ],
   "outputs": [
    {
     "output_type": "execute_result",
     "data": {
      "text/plain": [
       "[1, 2, 3, 4, 5]"
      ]
     },
     "metadata": {},
     "execution_count": 9
    }
   ],
   "metadata": {}
  },
  {
   "cell_type": "code",
   "execution_count": 10,
   "source": [
    "# using range\r\n",
    "numbers = []\r\n",
    "for number in range(1,6):\r\n",
    "    numbers.append(number)\r\n",
    "numbers"
   ],
   "outputs": [
    {
     "output_type": "execute_result",
     "data": {
      "text/plain": [
       "[1, 2, 3, 4, 5]"
      ]
     },
     "metadata": {},
     "execution_count": 10
    }
   ],
   "metadata": {}
  },
  {
   "cell_type": "code",
   "execution_count": 11,
   "source": [
    "# other easier version using range\r\n",
    "numbers = list(range(1,6))\r\n",
    "numbers"
   ],
   "outputs": [
    {
     "output_type": "execute_result",
     "data": {
      "text/plain": [
       "[1, 2, 3, 4, 5]"
      ]
     },
     "metadata": {},
     "execution_count": 11
    }
   ],
   "metadata": {}
  },
  {
   "cell_type": "markdown",
   "source": [
    "* All of the above approaches are valid python code and will produce same result, However a more Pythonic way to build a list is by using list comprehensions\r\n",
    "* syntax:\r\n",
    "```\r\n",
    "[expression for item in iterable lis]\r\n",
    "```"
   ],
   "metadata": {}
  },
  {
   "cell_type": "code",
   "execution_count": 12,
   "source": [
    "# list of numbers using list comprehension\r\n",
    "\r\n",
    "numbers = [ number for number in range(1,6)]\r\n",
    "numbers"
   ],
   "outputs": [
    {
     "output_type": "execute_result",
     "data": {
      "text/plain": [
       "[1, 2, 3, 4, 5]"
      ]
     },
     "metadata": {},
     "execution_count": 12
    }
   ],
   "metadata": {}
  },
  {
   "cell_type": "code",
   "execution_count": 14,
   "source": [
    "# list with all the numbers multiplied by 2 from 1 to 10\r\n",
    "double_numbers = [ number * 2 for number in range(1,11)]\r\n",
    "double_numbers\r\n"
   ],
   "outputs": [
    {
     "output_type": "execute_result",
     "data": {
      "text/plain": [
       "[2, 4, 6, 8, 10, 12, 14, 16, 18, 20]"
      ]
     },
     "metadata": {},
     "execution_count": 14
    }
   ],
   "metadata": {}
  },
  {
   "cell_type": "code",
   "execution_count": 15,
   "source": [
    "# list with square of all the even numbers from 1 to 20\r\n",
    "square_even_numbers = [ number**2 for number in range(1,21) if number%2 == 0 ]\r\n",
    "square_even_numbers"
   ],
   "outputs": [
    {
     "output_type": "execute_result",
     "data": {
      "text/plain": [
       "[4, 16, 36, 64, 100, 144, 196, 256, 324, 400]"
      ]
     },
     "metadata": {},
     "execution_count": 15
    }
   ],
   "metadata": {}
  }
 ],
 "metadata": {
  "orig_nbformat": 4,
  "language_info": {
   "name": "python",
   "version": "3.9.4",
   "mimetype": "text/x-python",
   "codemirror_mode": {
    "name": "ipython",
    "version": 3
   },
   "pygments_lexer": "ipython3",
   "nbconvert_exporter": "python",
   "file_extension": ".py"
  },
  "kernelspec": {
   "name": "python3",
   "display_name": "Python 3.9.4 64-bit"
  },
  "interpreter": {
   "hash": "63fd5069d213b44bf678585dea6b12cceca9941eaf7f819626cde1f2670de90d"
  }
 },
 "nbformat": 4,
 "nbformat_minor": 2
}