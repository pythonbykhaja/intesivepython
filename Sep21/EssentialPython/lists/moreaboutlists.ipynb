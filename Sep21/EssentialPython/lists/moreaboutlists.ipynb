{
 "cells": [
  {
   "cell_type": "markdown",
   "source": [
    "Get Items with a Slice\r\n",
    "-----------------------"
   ],
   "metadata": {}
  },
  {
   "cell_type": "code",
   "execution_count": 9,
   "source": [
    "days = ['Monday', 'Tuesday', 'Wednesday', 'Thursday', 'Friday', 'Saturday', 'Sunday']\r\n",
    "print(f\"first two days are {days[:2]}\")\r\n",
    "print(f\"last three days are {days[-3:]}\")\r\n",
    "print(f\"last day is {days[-1]}\")\r\n",
    "print(f\"alternative days \\nset 1 {days[::2]} \\nset 2 {days[1::2]}\")\r\n",
    "print(f\"days in reverse order {days[::-1]}\")"
   ],
   "outputs": [
    {
     "output_type": "stream",
     "name": "stdout",
     "text": [
      "first two days are ['Monday', 'Tuesday']\n",
      "last three days are ['Friday', 'Saturday', 'Sunday']\n",
      "last day is Sunday\n",
      "alternative days \n",
      "set 1 ['Monday', 'Wednesday', 'Friday', 'Sunday'] \n",
      "set 2 ['Tuesday', 'Thursday', 'Saturday']\n"
     ]
    }
   ],
   "metadata": {}
  },
  {
   "cell_type": "markdown",
   "source": [
    "Add an Item to the End with append()\r\n",
    "------------------------------------"
   ],
   "metadata": {}
  },
  {
   "cell_type": "code",
   "execution_count": 1,
   "source": [
    "colors = ['violet', 'indigo']\r\n",
    "colors.append('blue')\r\n",
    "colors"
   ],
   "outputs": [
    {
     "output_type": "execute_result",
     "data": {
      "text/plain": [
       "['violet', 'indigo', 'blue']"
      ]
     },
     "metadata": {},
     "execution_count": 1
    }
   ],
   "metadata": {}
  },
  {
   "cell_type": "markdown",
   "source": [
    "Adding an Item By offset using insert\r\n",
    "---------------------------------------"
   ],
   "metadata": {}
  },
  {
   "cell_type": "code",
   "execution_count": 3,
   "source": [
    "rainbow = ['violet', 'blue','green', 'yellow','red']\r\n",
    "rainbow.insert(1, 'indigo')\r\n",
    "print(rainbow)\r\n",
    "rainbow.insert(5, 'orange')\r\n",
    "print(rainbow)"
   ],
   "outputs": [
    {
     "output_type": "stream",
     "name": "stdout",
     "text": [
      "['violet', 'indigo', 'blue', 'green', 'yellow', 'red']\n",
      "['violet', 'indigo', 'blue', 'green', 'yellow', 'orange', 'red']\n"
     ]
    }
   ],
   "metadata": {}
  },
  {
   "cell_type": "markdown",
   "source": [
    "Duplicate All items with *\r\n",
    "---------------------------"
   ],
   "metadata": {}
  },
  {
   "cell_type": "code",
   "execution_count": 4,
   "source": [
    "dummy_list = ['range rover']\r\n",
    "dummy_list * 3"
   ],
   "outputs": [
    {
     "output_type": "execute_result",
     "data": {
      "text/plain": [
       "['range rover', 'range rover', 'range rover']"
      ]
     },
     "metadata": {},
     "execution_count": 4
    }
   ],
   "metadata": {}
  },
  {
   "cell_type": "markdown",
   "source": [
    "Combine Lists by using extend()  or +\r\n",
    "-------------------------------------"
   ],
   "metadata": {}
  },
  {
   "cell_type": "code",
   "execution_count": 10,
   "source": [
    "maruti_cars = ['alto', 'swift', 'brezza']\r\n",
    "hyundai_cars = ['i20', 'creta', 'verna']\r\n",
    "cars = []\r\n",
    "cars.extend(maruti_cars)\r\n",
    "print(cars)\r\n",
    "cars.extend(hyundai_cars)\r\n",
    "print(cars)\r\n",
    "\r\n",
    "print('other cars')\r\n",
    "other_cars = []\r\n",
    "other_cars += maruti_cars\r\n",
    "print(other_cars)\r\n",
    "other_cars += hyundai_cars\r\n",
    "print(other_cars)\r\n",
    "print(maruti_cars+hyundai_cars)"
   ],
   "outputs": [
    {
     "output_type": "stream",
     "name": "stdout",
     "text": [
      "['alto', 'swift', 'brezza']\n",
      "['alto', 'swift', 'brezza', 'i20', 'creta', 'verna']\n",
      "other cars\n",
      "['alto', 'swift', 'brezza']\n",
      "['alto', 'swift', 'brezza', 'i20', 'creta', 'verna']\n",
      "['alto', 'swift', 'brezza', 'i20', 'creta', 'verna']\n"
     ]
    }
   ],
   "metadata": {}
  },
  {
   "cell_type": "markdown",
   "source": [
    "Changing an item by [offset]\r\n",
    "------------------------------"
   ],
   "metadata": {}
  },
  {
   "cell_type": "code",
   "execution_count": 12,
   "source": [
    "suvs = ['creta', 'seltos', 'xuv500', 'safari', 'hexa']\r\n",
    "suvs[2] = 'xuv700'\r\n",
    "print(suvs)\r\n",
    "suvs[0:2] = ['breeza', 'nexon']\r\n",
    "print(suvs)"
   ],
   "outputs": [
    {
     "output_type": "stream",
     "name": "stdout",
     "text": [
      "['creta', 'seltos', 'xuv700', 'safari', 'hexa']\n",
      "['breeza', 'nexon', 'xuv700', 'safari', 'hexa']\n"
     ]
    }
   ],
   "metadata": {}
  },
  {
   "cell_type": "markdown",
   "source": [
    "Deleting an Item by Offset with del\r\n",
    "------------------------------------"
   ],
   "metadata": {}
  },
  {
   "cell_type": "code",
   "execution_count": 14,
   "source": [
    "suvs = ['creta', 'seltos', 'xuv500', 'safari', 'hexa']\r\n",
    "del suvs[-1]\r\n",
    "print(suvs)\r\n",
    "del suvs[2]\r\n",
    "print(suvs)"
   ],
   "outputs": [
    {
     "output_type": "stream",
     "name": "stdout",
     "text": [
      "['creta', 'seltos', 'xuv500', 'safari']\n",
      "['creta', 'seltos', 'safari']\n"
     ]
    }
   ],
   "metadata": {}
  },
  {
   "cell_type": "markdown",
   "source": [
    "Delting an Item by Value using remove()\r\n",
    "---------------------------------------"
   ],
   "metadata": {}
  },
  {
   "cell_type": "code",
   "execution_count": 22,
   "source": [
    "suvs = ['creta', 'seltos', 'xuv500', 'safari', 'hexa']\r\n",
    "suvs.remove('safari')\r\n",
    "print(suvs)\r\n",
    "# pop\r\n",
    "print(suvs.pop(2))\r\n",
    "print(suvs)\r\n",
    "# delete all items with clear\r\n",
    "suvs.clear()\r\n",
    "print(suvs)\r\n"
   ],
   "outputs": [
    {
     "output_type": "stream",
     "name": "stdout",
     "text": [
      "['creta', 'seltos', 'xuv500', 'hexa']\n",
      "xuv500\n",
      "['creta', 'seltos', 'hexa']\n",
      "[]\n"
     ]
    }
   ],
   "metadata": {}
  },
  {
   "cell_type": "markdown",
   "source": [
    "Finding an Items Offset by Value with index()\r\n",
    "----------------------------------------------"
   ],
   "metadata": {}
  },
  {
   "cell_type": "code",
   "execution_count": 24,
   "source": [
    "suvs = ['creta', 'seltos', 'xuv500', 'safari', 'hexa']\r\n",
    "print(suvs.index('safari'))\r\n",
    "print(suvs.index('brezza'))"
   ],
   "outputs": [
    {
     "output_type": "stream",
     "name": "stdout",
     "text": [
      "3\n"
     ]
    },
    {
     "output_type": "error",
     "ename": "ValueError",
     "evalue": "'brezza' is not in list",
     "traceback": [
      "\u001b[1;31m---------------------------------------------------------------------------\u001b[0m",
      "\u001b[1;31mValueError\u001b[0m                                Traceback (most recent call last)",
      "\u001b[1;32m<ipython-input-24-fd3f4d9f1782>\u001b[0m in \u001b[0;36m<module>\u001b[1;34m\u001b[0m\n\u001b[0;32m      1\u001b[0m \u001b[0msuvs\u001b[0m \u001b[1;33m=\u001b[0m \u001b[1;33m[\u001b[0m\u001b[1;34m'creta'\u001b[0m\u001b[1;33m,\u001b[0m \u001b[1;34m'seltos'\u001b[0m\u001b[1;33m,\u001b[0m \u001b[1;34m'xuv500'\u001b[0m\u001b[1;33m,\u001b[0m \u001b[1;34m'safari'\u001b[0m\u001b[1;33m,\u001b[0m \u001b[1;34m'hexa'\u001b[0m\u001b[1;33m]\u001b[0m\u001b[1;33m\u001b[0m\u001b[1;33m\u001b[0m\u001b[0m\n\u001b[0;32m      2\u001b[0m \u001b[0mprint\u001b[0m\u001b[1;33m(\u001b[0m\u001b[0msuvs\u001b[0m\u001b[1;33m.\u001b[0m\u001b[0mindex\u001b[0m\u001b[1;33m(\u001b[0m\u001b[1;34m'safari'\u001b[0m\u001b[1;33m)\u001b[0m\u001b[1;33m)\u001b[0m\u001b[1;33m\u001b[0m\u001b[1;33m\u001b[0m\u001b[0m\n\u001b[1;32m----> 3\u001b[1;33m \u001b[0mprint\u001b[0m\u001b[1;33m(\u001b[0m\u001b[0msuvs\u001b[0m\u001b[1;33m.\u001b[0m\u001b[0mindex\u001b[0m\u001b[1;33m(\u001b[0m\u001b[1;34m'brezza'\u001b[0m\u001b[1;33m)\u001b[0m\u001b[1;33m)\u001b[0m\u001b[1;33m\u001b[0m\u001b[1;33m\u001b[0m\u001b[0m\n\u001b[0m",
      "\u001b[1;31mValueError\u001b[0m: 'brezza' is not in list"
     ]
    }
   ],
   "metadata": {}
  },
  {
   "cell_type": "markdown",
   "source": [
    "Test for a Value with in\r\n",
    "-------------------------"
   ],
   "metadata": {}
  },
  {
   "cell_type": "code",
   "execution_count": 29,
   "source": [
    "suvs = ['creta', 'seltos', 'xuv500', 'safari', 'hexa']\r\n",
    "print('safari' in suvs)\r\n",
    "print('brezza' in suvs)\r\n",
    "\r\n",
    "if 'brezza' not in suvs:\r\n",
    "    suvs.append('brezza')\r\n",
    "print(suvs)"
   ],
   "outputs": [
    {
     "output_type": "stream",
     "name": "stdout",
     "text": [
      "True\n",
      "False\n",
      "['creta', 'seltos', 'xuv500', 'safari', 'hexa', 'brezza']\n"
     ]
    }
   ],
   "metadata": {}
  },
  {
   "cell_type": "markdown",
   "source": [
    "Count occurences of a Value with count()\r\n",
    "----------------------------------------"
   ],
   "metadata": {}
  },
  {
   "cell_type": "code",
   "execution_count": 32,
   "source": [
    "cars = ['swift', 'alto', 'ciaz', 'swift']\r\n",
    "print(cars.count('swift'))\r\n",
    "print(cars.count('brezza'))\r\n",
    "print(cars.count('ciaz'))\r\n"
   ],
   "outputs": [
    {
     "output_type": "stream",
     "name": "stdout",
     "text": [
      "2\n",
      "0\n",
      "1\n"
     ]
    }
   ],
   "metadata": {}
  },
  {
   "cell_type": "markdown",
   "source": [
    "Copy the lists\r\n",
    "--------------"
   ],
   "metadata": {}
  },
  {
   "cell_type": "code",
   "execution_count": 37,
   "source": [
    "x = [1,2,3,4,5]\r\n",
    "y = x\r\n",
    "print(f\"memory locations x={id(x)} y = {id(y)}\")\r\n",
    "print(f\"x = {x} y = {y}\")\r\n",
    "x[0] = -1\r\n",
    "print(f\"x = {x} y = {y}\")\r\n",
    "y.append(6)\r\n",
    "print(f\"x = {x} y = {y}\")"
   ],
   "outputs": [
    {
     "output_type": "stream",
     "name": "stdout",
     "text": [
      "memory locations x=3003540737216 y = 3003540737216\n",
      "x = [1, 2, 3, 4, 5] y = [1, 2, 3, 4, 5]\n",
      "x = [-1, 2, 3, 4, 5] y = [-1, 2, 3, 4, 5]\n",
      "x = [-1, 2, 3, 4, 5, 6] y = [-1, 2, 3, 4, 5, 6]\n"
     ]
    }
   ],
   "metadata": {}
  },
  {
   "cell_type": "markdown",
   "source": [
    "copy\r\n",
    "----\r\n",
    "* If we want a list to be created with copy of a values so that changing one list will not impact other we can use copy"
   ],
   "metadata": {}
  },
  {
   "cell_type": "code",
   "execution_count": 49,
   "source": [
    "x = [1,2,3,4,5]\r\n",
    "y = x.copy()\r\n",
    "print(f\"memory locations x={id(x)} y = {id(y)}\")\r\n",
    "print(f\"x = {x} y = {y}\")\r\n",
    "x[0] = -1\r\n",
    "print(f\"x = {x} y = {y}\")\r\n",
    "y.append(6)\r\n",
    "print(f\"x = {x} y = {y}\")\r\n",
    "\r\n"
   ],
   "outputs": [
    {
     "output_type": "stream",
     "name": "stdout",
     "text": [
      "memory locations x=3003540566528 y = 3003540698624\n",
      "x = [1, 2, 3, 4, 5] y = [1, 2, 3, 4, 5]\n",
      "x = [-1, 2, 3, 4, 5] y = [1, 2, 3, 4, 5]\n",
      "x = [-1, 2, 3, 4, 5] y = [1, 2, 3, 4, 5, 6]\n"
     ]
    }
   ],
   "metadata": {}
  },
  {
   "cell_type": "code",
   "execution_count": 51,
   "source": [
    "x = [1, 2, [3, 4 ]]\r\n",
    "y = x.copy()\r\n",
    "print(f\"x = {x} y = {y}\")\r\n",
    "x[0] = -1\r\n",
    "print(f\"x = {x} y = {y}\")\r\n",
    "y[1] = -2\r\n",
    "print(f\"x = {x} y = {y}\")\r\n",
    "x[2][0] = -3\r\n",
    "print(f\"x = {x} y = {y}\")"
   ],
   "outputs": [
    {
     "output_type": "stream",
     "name": "stdout",
     "text": [
      "x = [1, 2, [3, 4]] y = [1, 2, [3, 4]]\n",
      "x = [-1, 2, [3, 4]] y = [1, 2, [3, 4]]\n",
      "x = [-1, 2, [3, 4]] y = [1, -2, [3, 4]]\n",
      "x = [-1, 2, [-3, 4]] y = [1, -2, [-3, 4]]\n"
     ]
    }
   ],
   "metadata": {}
  },
  {
   "cell_type": "markdown",
   "source": [
    "Deepcopy() to the rescue\r\n",
    "------------------------"
   ],
   "metadata": {}
  },
  {
   "cell_type": "code",
   "execution_count": 52,
   "source": [
    "import copy\r\n",
    "x = [1, 2, [3, 4 ]]\r\n",
    "y = copy.deepcopy(x)\r\n",
    "print(f\"x = {x} y = {y}\")\r\n",
    "x[0] = -1\r\n",
    "print(f\"x = {x} y = {y}\")\r\n",
    "y[1] = -2\r\n",
    "print(f\"x = {x} y = {y}\")\r\n",
    "x[2][0] = -3\r\n",
    "print(f\"x = {x} y = {y}\")"
   ],
   "outputs": [
    {
     "output_type": "stream",
     "name": "stdout",
     "text": [
      "x = [1, 2, [3, 4]] y = [1, 2, [3, 4]]\n",
      "x = [-1, 2, [3, 4]] y = [1, 2, [3, 4]]\n",
      "x = [-1, 2, [3, 4]] y = [1, -2, [3, 4]]\n",
      "x = [-1, 2, [-3, 4]] y = [1, -2, [3, 4]]\n"
     ]
    }
   ],
   "metadata": {}
  }
 ],
 "metadata": {
  "orig_nbformat": 4,
  "language_info": {
   "name": "python",
   "version": "3.9.4",
   "mimetype": "text/x-python",
   "codemirror_mode": {
    "name": "ipython",
    "version": 3
   },
   "pygments_lexer": "ipython3",
   "nbconvert_exporter": "python",
   "file_extension": ".py"
  },
  "kernelspec": {
   "name": "python3",
   "display_name": "Python 3.9.4 64-bit"
  },
  "interpreter": {
   "hash": "63fd5069d213b44bf678585dea6b12cceca9941eaf7f819626cde1f2670de90d"
  }
 },
 "nbformat": 4,
 "nbformat_minor": 2
}