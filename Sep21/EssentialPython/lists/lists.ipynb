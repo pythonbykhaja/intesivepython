{
 "cells": [
  {
   "cell_type": "markdown",
   "source": [
    "Create with []\r\n",
    "---------------"
   ],
   "metadata": {}
  },
  {
   "cell_type": "code",
   "execution_count": null,
   "source": [
    "leap_years = [2000, 2004, 2008]\r\n",
    "birds = ['parrot', 'peacock', 'ostrich']\r\n",
    "empty_list = []"
   ],
   "outputs": [],
   "metadata": {}
  },
  {
   "cell_type": "markdown",
   "source": [
    "Converting from tuple to list and list to tuple\r\n",
    "------------------------------------------------"
   ],
   "metadata": {}
  },
  {
   "cell_type": "code",
   "execution_count": 2,
   "source": [
    "weekends = ['Saturday', 'Sunday']\r\n",
    "print(type(weekends))\r\n",
    "weekends_tuple = tuple(weekends)\r\n",
    "print(weekends_tuple)\r\n",
    "\r\n",
    "leap_years = (2000, 2004, 2008)\r\n",
    "leap_years_list = list(leap_years)\r\n",
    "print(leap_years_list)"
   ],
   "outputs": [
    {
     "output_type": "stream",
     "name": "stdout",
     "text": [
      "<class 'list'>\n",
      "('Saturday', 'Sunday')\n",
      "[2000, 2004, 2008]\n"
     ]
    }
   ],
   "metadata": {}
  },
  {
   "cell_type": "code",
   "execution_count": 4,
   "source": [
    "# Create a list from string\r\n",
    "\r\n",
    "print(list('Tiger'))\r\n",
    "print(tuple('Lion'))"
   ],
   "outputs": [
    {
     "output_type": "stream",
     "name": "stdout",
     "text": [
      "['T', 'i', 'g', 'e', 'r']\n",
      "('L', 'i', 'o', 'n')\n"
     ]
    }
   ],
   "metadata": {}
  },
  {
   "cell_type": "markdown",
   "source": [
    "Spliting a String\r\n",
    "-----------------"
   ],
   "metadata": {}
  },
  {
   "cell_type": "code",
   "execution_count": 5,
   "source": [
    "independence_day = '15-Aug-1947'\r\n",
    "independence_day.split('-')"
   ],
   "outputs": [
    {
     "output_type": "execute_result",
     "data": {
      "text/plain": [
       "['15', 'Aug', '1947']"
      ]
     },
     "metadata": {},
     "execution_count": 5
    }
   ],
   "metadata": {}
  },
  {
   "cell_type": "markdown",
   "source": [
    "Joining a list to a string\r\n",
    "---------------------------"
   ],
   "metadata": {}
  },
  {
   "cell_type": "code",
   "execution_count": 6,
   "source": [
    "some_random = ['hello', 'how', 'are', 'you']\r\n",
    "'-'.join(some_random)"
   ],
   "outputs": [
    {
     "output_type": "execute_result",
     "data": {
      "text/plain": [
       "'hello-how-are-you'"
      ]
     },
     "metadata": {},
     "execution_count": 6
    }
   ],
   "metadata": {}
  },
  {
   "cell_type": "markdown",
   "source": [
    "Get an Item by [offset]\r\n",
    "------------------------"
   ],
   "metadata": {}
  },
  {
   "cell_type": "code",
   "execution_count": 11,
   "source": [
    "colors = ['Red', 'Green', 'Blue']\r\n",
    "print(colors[0])\r\n",
    "print(colors[-1])\r\n",
    "print(len(colors))\r\n",
    "print(colors[::-1])\r\n",
    "print(colors[0:2])\r\n",
    "print(colors[-2:]) # last 2 items"
   ],
   "outputs": [
    {
     "output_type": "stream",
     "name": "stdout",
     "text": [
      "Red\n",
      "Blue\n",
      "3\n",
      "['Blue', 'Green', 'Red']\n",
      "['Red', 'Green']\n",
      "['Green', 'Blue']\n"
     ]
    }
   ],
   "metadata": {}
  }
 ],
 "metadata": {
  "orig_nbformat": 4,
  "language_info": {
   "name": "python",
   "version": "3.9.4",
   "mimetype": "text/x-python",
   "codemirror_mode": {
    "name": "ipython",
    "version": 3
   },
   "pygments_lexer": "ipython3",
   "nbconvert_exporter": "python",
   "file_extension": ".py"
  },
  "kernelspec": {
   "name": "python3",
   "display_name": "Python 3.9.4 64-bit"
  },
  "interpreter": {
   "hash": "63fd5069d213b44bf678585dea6b12cceca9941eaf7f819626cde1f2670de90d"
  }
 },
 "nbformat": 4,
 "nbformat_minor": 2
}