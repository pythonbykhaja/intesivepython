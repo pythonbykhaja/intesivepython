{
 "cells": [
  {
   "cell_type": "markdown",
   "source": [
    "Create with set() or {}\r\n",
    "---------------------"
   ],
   "metadata": {}
  },
  {
   "cell_type": "code",
   "execution_count": 2,
   "source": [
    "empty_set = set()\r\n",
    "even_numbers = {2,4,6,8}\r\n",
    "odd_numbers = {1,3,5,7}\r\n",
    "print(type(empty_set))\r\n",
    "print(empty_set)\r\n",
    "print(even_numbers)\r\n",
    "print(odd_numbers)"
   ],
   "outputs": [
    {
     "output_type": "stream",
     "name": "stdout",
     "text": [
      "<class 'set'>\n",
      "set()\n",
      "{8, 2, 4, 6}\n",
      "{1, 3, 5, 7}\n"
     ]
    }
   ],
   "metadata": {}
  },
  {
   "cell_type": "markdown",
   "source": [
    "convert with set()\r\n",
    "-------------------"
   ],
   "metadata": {}
  },
  {
   "cell_type": "code",
   "execution_count": 5,
   "source": [
    "numbers = [ 1,2,4,3,5,4,3,2,3,4,1,4,5,6,4]\r\n",
    "unique = set(numbers)\r\n",
    "print(unique)\r\n",
    "set('letters')"
   ],
   "outputs": [
    {
     "output_type": "stream",
     "name": "stdout",
     "text": [
      "{1, 2, 3, 4, 5, 6}\n"
     ]
    },
    {
     "output_type": "execute_result",
     "data": {
      "text/plain": [
       "{'e', 'l', 'r', 's', 't'}"
      ]
     },
     "metadata": {},
     "execution_count": 5
    }
   ],
   "metadata": {}
  },
  {
   "cell_type": "markdown",
   "source": [
    "Adding items and length and deleting items with remove\r\n",
    "------------------------"
   ],
   "metadata": {}
  },
  {
   "cell_type": "code",
   "execution_count": 9,
   "source": [
    "numbers = set((1,2,3,4,5,6,7,8,9,10))\r\n",
    "print(len(numbers))\r\n",
    "numbers.add(11)\r\n",
    "print(len(numbers))\r\n",
    "numbers.remove(1)\r\n",
    "print(numbers)"
   ],
   "outputs": [
    {
     "output_type": "stream",
     "name": "stdout",
     "text": [
      "10\n",
      "11\n",
      "{2, 3, 4, 5, 6, 7, 8, 9, 10, 11}\n"
     ]
    }
   ],
   "metadata": {}
  },
  {
   "cell_type": "markdown",
   "source": [
    "Iterate set with for\r\n",
    "--------------------"
   ],
   "metadata": {}
  },
  {
   "cell_type": "code",
   "execution_count": 13,
   "source": [
    "electronics = set(('refrigirator', 'ac', 'tv'))\r\n",
    "for piece in electronics:\r\n",
    "    print(piece)\r\n",
    "\r\n",
    "print()\r\n",
    "if 'refrigirator' in electronics:\r\n",
    "    print('dont buy any new refrigirators')\r\n",
    "if 'home theatre' not in electronics:\r\n",
    "    print('buy home theatre')"
   ],
   "outputs": [
    {
     "output_type": "stream",
     "name": "stdout",
     "text": [
      "tv\n",
      "refrigirator\n",
      "ac\n",
      "\n",
      "dont buy any new refrigirators\n",
      "buy home theatre\n"
     ]
    }
   ],
   "metadata": {}
  },
  {
   "cell_type": "markdown",
   "source": [
    "Set Operations\r\n",
    "---------------"
   ],
   "metadata": {}
  },
  {
   "cell_type": "code",
   "execution_count": 27,
   "source": [
    "# intersection\r\n",
    "a = {1,2,3}\r\n",
    "b = {3,4,5}\r\n",
    "print(a&b)\r\n",
    "print(a.intersection(b))\r\n",
    "\r\n",
    "# union\r\n",
    "print(a|b)\r\n",
    "print(a.union(b))\r\n",
    "\r\n",
    "# difference\r\n",
    "print(a-b)\r\n",
    "print(a.difference(b))\r\n",
    "\r\n",
    "# exclusive items\r\n",
    "print(a^b)\r\n",
    "print(a.symmetric_difference(b))"
   ],
   "outputs": [
    {
     "output_type": "stream",
     "name": "stdout",
     "text": [
      "{3}\n",
      "{3}\n",
      "{1, 2, 3, 4, 5}\n",
      "{1, 2, 3, 4, 5}\n",
      "{1, 2}\n",
      "{1, 2}\n",
      "{1, 2, 4, 5}\n",
      "{1, 2, 4, 5}\n"
     ]
    }
   ],
   "metadata": {}
  },
  {
   "cell_type": "code",
   "execution_count": 29,
   "source": [
    "a = {1,2,3,4,5}\r\n",
    "b = {2,3}\r\n",
    "print(a.issuperset(b))\r\n",
    "print(a >= b)\r\n",
    "print(b.issubset(a))\r\n",
    "print(a.issubset(b))\r\n",
    "print(a <= b)"
   ],
   "outputs": [
    {
     "output_type": "stream",
     "name": "stdout",
     "text": [
      "True\n",
      "True\n",
      "True\n",
      "False\n",
      "False\n"
     ]
    }
   ],
   "metadata": {}
  },
  {
   "cell_type": "markdown",
   "source": [
    "Set Comprehensions\r\n",
    "-----------------\r\n",
    "* Expression : ``{ expression for expression in iterable }```"
   ],
   "metadata": {}
  },
  {
   "cell_type": "code",
   "execution_count": 30,
   "source": [
    "even_set = { number for number in range(1,21) if number%2 == 0 }\r\n",
    "print(even_set)"
   ],
   "outputs": [
    {
     "output_type": "stream",
     "name": "stdout",
     "text": [
      "{2, 4, 6, 8, 10, 12, 14, 16, 18, 20}\n"
     ]
    }
   ],
   "metadata": {}
  },
  {
   "cell_type": "markdown",
   "source": [
    "Immutable sets with frozenset()\r\n",
    "-------------------------------"
   ],
   "metadata": {}
  },
  {
   "cell_type": "code",
   "execution_count": 33,
   "source": [
    "s1 = frozenset([1,2,3])\r\n",
    "s2 = set([1,2,3])\r\n",
    "print(s1)\r\n",
    "print(s2)\r\n",
    "s2.add(4)\r\n",
    "print(s2)\r\n",
    "s1.add(4)\r\n"
   ],
   "outputs": [
    {
     "output_type": "stream",
     "name": "stdout",
     "text": [
      "frozenset({1, 2, 3})\n",
      "{1, 2, 3}\n",
      "{1, 2, 3, 4}\n"
     ]
    },
    {
     "output_type": "error",
     "ename": "AttributeError",
     "evalue": "'frozenset' object has no attribute 'add'",
     "traceback": [
      "\u001b[1;31m---------------------------------------------------------------------------\u001b[0m",
      "\u001b[1;31mAttributeError\u001b[0m                            Traceback (most recent call last)",
      "\u001b[1;32m<ipython-input-33-670ff401ac37>\u001b[0m in \u001b[0;36m<module>\u001b[1;34m\u001b[0m\n\u001b[0;32m      5\u001b[0m \u001b[0ms2\u001b[0m\u001b[1;33m.\u001b[0m\u001b[0madd\u001b[0m\u001b[1;33m(\u001b[0m\u001b[1;36m4\u001b[0m\u001b[1;33m)\u001b[0m\u001b[1;33m\u001b[0m\u001b[1;33m\u001b[0m\u001b[0m\n\u001b[0;32m      6\u001b[0m \u001b[0mprint\u001b[0m\u001b[1;33m(\u001b[0m\u001b[0ms2\u001b[0m\u001b[1;33m)\u001b[0m\u001b[1;33m\u001b[0m\u001b[1;33m\u001b[0m\u001b[0m\n\u001b[1;32m----> 7\u001b[1;33m \u001b[0ms1\u001b[0m\u001b[1;33m.\u001b[0m\u001b[0madd\u001b[0m\u001b[1;33m(\u001b[0m\u001b[1;36m4\u001b[0m\u001b[1;33m)\u001b[0m\u001b[1;33m\u001b[0m\u001b[1;33m\u001b[0m\u001b[0m\n\u001b[0m",
      "\u001b[1;31mAttributeError\u001b[0m: 'frozenset' object has no attribute 'add'"
     ]
    }
   ],
   "metadata": {}
  }
 ],
 "metadata": {
  "orig_nbformat": 4,
  "language_info": {
   "name": "python",
   "version": "3.9.4",
   "mimetype": "text/x-python",
   "codemirror_mode": {
    "name": "ipython",
    "version": 3
   },
   "pygments_lexer": "ipython3",
   "nbconvert_exporter": "python",
   "file_extension": ".py"
  },
  "kernelspec": {
   "name": "python3",
   "display_name": "Python 3.9.4 64-bit"
  },
  "interpreter": {
   "hash": "63fd5069d213b44bf678585dea6b12cceca9941eaf7f819626cde1f2670de90d"
  }
 },
 "nbformat": 4,
 "nbformat_minor": 2
}