{
 "cells": [
  {
   "cell_type": "markdown",
   "source": [
    "Assigning dictionaries\r\n",
    "-----------------------"
   ],
   "metadata": {}
  },
  {
   "cell_type": "code",
   "execution_count": 4,
   "source": [
    "signals = {'green': 'go', 'red': 'stop', 'yellow': 'be careful'}\r\n",
    "print(type(signals))\r\n",
    "signals['blue'] = 'confuse'\r\n",
    "print(signals)"
   ],
   "outputs": [
    {
     "output_type": "stream",
     "name": "stdout",
     "text": [
      "<class 'dict'>\n",
      "{'green': 'go', 'red': 'stop', 'yellow': 'be careful', 'blue': 'confuse'}\n"
     ]
    }
   ],
   "metadata": {}
  },
  {
   "cell_type": "markdown",
   "source": [
    "Copying Dictionaries\r\n",
    "--------------------"
   ],
   "metadata": {}
  },
  {
   "cell_type": "code",
   "execution_count": 8,
   "source": [
    "signals = {'green': 'go', 'red': 'stop', 'yellow': 'be careful'}\r\n",
    "assigned_signals = signals\r\n",
    "original_signals = signals.copy()\r\n",
    "signals['green'] = 'start'\r\n",
    "print(signals)\r\n",
    "print(assigned_signals)\r\n",
    "print(original_signals)\r\n",
    "# This is a shallow copy\r\n",
    "# if you want to copy every thing just like lists use deepcopy()\r\n",
    "signals = {'green': 'go', 'red': ['stop', 'smile'], 'yellow': 'be careful'}\r\n",
    "import copy\r\n",
    "original_signals = signals.copy()\r\n",
    "deepcopy_signals = copy.deepcopy(signals)\r\n",
    "signals['red'][1]= 'cry'\r\n",
    "print(signals)\r\n",
    "print(original_signals)\r\n",
    "print(deepcopy_signals)\r\n",
    "\r\n",
    "\r\n"
   ],
   "outputs": [
    {
     "output_type": "stream",
     "name": "stdout",
     "text": [
      "{'green': 'start', 'red': 'stop', 'yellow': 'be careful'}\n",
      "{'green': 'start', 'red': 'stop', 'yellow': 'be careful'}\n",
      "{'green': 'go', 'red': 'stop', 'yellow': 'be careful'}\n",
      "{'green': 'go', 'red': ['stop', 'cry'], 'yellow': 'be careful'}\n",
      "{'green': 'go', 'red': ['stop', 'cry'], 'yellow': 'be careful'}\n",
      "{'green': 'go', 'red': ['stop', 'smile'], 'yellow': 'be careful'}\n"
     ]
    }
   ],
   "metadata": {}
  },
  {
   "cell_type": "markdown",
   "source": [
    "Iterating with for and in\r\n",
    "-------------------------"
   ],
   "metadata": {}
  },
  {
   "cell_type": "code",
   "execution_count": 10,
   "source": [
    "signals = {'green': 'go', 'red': 'stop', 'yellow': 'be careful'}\r\n",
    "for key in signals: # This will print only keys\r\n",
    "    print(key)"
   ],
   "outputs": [
    {
     "output_type": "stream",
     "name": "stdout",
     "text": [
      "green\n",
      "red\n",
      "yellow\n"
     ]
    }
   ],
   "metadata": {}
  },
  {
   "cell_type": "code",
   "execution_count": 11,
   "source": [
    "for value in signals.values():\r\n",
    "    print(value) "
   ],
   "outputs": [
    {
     "output_type": "stream",
     "name": "stdout",
     "text": [
      "go\n",
      "stop\n",
      "be careful\n"
     ]
    }
   ],
   "metadata": {}
  },
  {
   "cell_type": "code",
   "execution_count": 12,
   "source": [
    "for keyvaluepair in signals.items():\r\n",
    "    print(keyvaluepair)"
   ],
   "outputs": [
    {
     "output_type": "stream",
     "name": "stdout",
     "text": [
      "('green', 'go')\n",
      "('red', 'stop')\n",
      "('yellow', 'be careful')\n"
     ]
    }
   ],
   "metadata": {}
  },
  {
   "cell_type": "code",
   "execution_count": 13,
   "source": [
    "for signal, value in signals.items():\r\n",
    "    print(f\"{signal} ====> {value}\")"
   ],
   "outputs": [
    {
     "output_type": "stream",
     "name": "stdout",
     "text": [
      "green ====> go\n",
      "red ====> stop\n",
      "yellow ====> be careful\n"
     ]
    }
   ],
   "metadata": {}
  },
  {
   "cell_type": "markdown",
   "source": [
    "Dictionary Comprehensions\r\n",
    "--------------------------\r\n",
    "\r\n",
    "* Syntax is `{key_expression: value_expression for expression in iterable }`"
   ],
   "metadata": {}
  },
  {
   "cell_type": "code",
   "execution_count": 14,
   "source": [
    "word = \"Comprehension\"\r\n",
    "letter_count = { letter: word.count(letter) for letter in word }\r\n",
    "print(letter_count)"
   ],
   "outputs": [
    {
     "output_type": "stream",
     "name": "stdout",
     "text": [
      "{'C': 1, 'o': 2, 'm': 1, 'p': 1, 'r': 1, 'e': 2, 'h': 1, 'n': 2, 's': 1, 'i': 1}\n"
     ]
    }
   ],
   "metadata": {}
  },
  {
   "cell_type": "code",
   "execution_count": 15,
   "source": [
    "numbers = [ 1,2,4,3,5,4,3,2,3,4,1,4,5,6,4]\r\n",
    "number_count = {number: numbers.count(number) for number in numbers }\r\n",
    "print(number_count)"
   ],
   "outputs": [
    {
     "output_type": "stream",
     "name": "stdout",
     "text": [
      "{1: 2, 2: 2, 4: 5, 3: 3, 5: 2, 6: 1}\n"
     ]
    }
   ],
   "metadata": {}
  }
 ],
 "metadata": {
  "orig_nbformat": 4,
  "language_info": {
   "name": "python",
   "version": "3.9.4",
   "mimetype": "text/x-python",
   "codemirror_mode": {
    "name": "ipython",
    "version": 3
   },
   "pygments_lexer": "ipython3",
   "nbconvert_exporter": "python",
   "file_extension": ".py"
  },
  "kernelspec": {
   "name": "python3",
   "display_name": "Python 3.9.4 64-bit"
  },
  "interpreter": {
   "hash": "63fd5069d213b44bf678585dea6b12cceca9941eaf7f819626cde1f2670de90d"
  }
 },
 "nbformat": 4,
 "nbformat_minor": 2
}