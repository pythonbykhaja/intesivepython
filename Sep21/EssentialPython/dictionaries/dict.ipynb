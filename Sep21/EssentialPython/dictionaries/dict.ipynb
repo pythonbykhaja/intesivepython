{
 "cells": [
  {
   "cell_type": "markdown",
   "source": [
    "Create with {} or dict()\r\n",
    "-------------------------"
   ],
   "metadata": {}
  },
  {
   "cell_type": "code",
   "execution_count": 8,
   "source": [
    "# Empty dictionaries\r\n",
    "empty_dict_1 = {}\r\n",
    "print(type(empty_dict_1))\r\n",
    "print(empty_dict_1)\r\n",
    "\r\n",
    "empty_dict_2 = dict()\r\n",
    "print(type(empty_dict_2))\r\n",
    "print(empty_dict_2)\r\n"
   ],
   "outputs": [
    {
     "output_type": "stream",
     "name": "stdout",
     "text": [
      "<class 'dict'>\n",
      "{}\n",
      "<class 'dict'>\n",
      "{}\n"
     ]
    }
   ],
   "metadata": {}
  },
  {
   "cell_type": "code",
   "execution_count": 4,
   "source": [
    "diet = {\r\n",
    "    'monday': 'Apples',\r\n",
    "    'tuesday': 'Oranges',\r\n",
    "    'wednesday': 'Banana'\r\n",
    "}\r\n",
    "\r\n",
    "print(diet)\r\n",
    "print(diet['monday'])"
   ],
   "outputs": [
    {
     "output_type": "stream",
     "name": "stdout",
     "text": [
      "{'monday': 'Apples', 'tuesday': 'Oranges', 'wednesday': 'Banana'}\n",
      "Apples\n"
     ]
    }
   ],
   "metadata": {}
  },
  {
   "cell_type": "code",
   "execution_count": 6,
   "source": [
    "name_dict = dict(first='John', middle='Mr', last='Doe')\r\n",
    "print(name_dict)\r\n",
    "print(name_dict['first'])"
   ],
   "outputs": [
    {
     "output_type": "stream",
     "name": "stdout",
     "text": [
      "{'first': 'John', 'middle': 'Mr', 'last': 'Doe'}\n",
      "John\n"
     ]
    }
   ],
   "metadata": {}
  },
  {
   "cell_type": "code",
   "execution_count": 9,
   "source": [
    "# Changing Values\r\n",
    "diet = {\r\n",
    "    'monday': 'Apples',\r\n",
    "    'tuesday': 'Oranges',\r\n",
    "    'wednesday': 'Banana'\r\n",
    "}\r\n",
    "diet['wednesday'] = 'Berries'\r\n",
    "print(diet)"
   ],
   "outputs": [
    {
     "output_type": "stream",
     "name": "stdout",
     "text": [
      "{'monday': 'Apples', 'tuesday': 'Oranges', 'wednesday': 'Berries'}\n"
     ]
    }
   ],
   "metadata": {}
  },
  {
   "cell_type": "markdown",
   "source": [
    "Get an Item by [key] or with get()\r\n",
    "-----------------------------------"
   ],
   "metadata": {}
  },
  {
   "cell_type": "code",
   "execution_count": 14,
   "source": [
    "diet = {\r\n",
    "    'monday': 'Apples',\r\n",
    "    'tuesday': 'Oranges',\r\n",
    "    'wednesday': 'Banana'\r\n",
    "}\r\n",
    "# gets an item from dictionary with is key\r\n",
    "print(diet.get('monday'))\r\n",
    "\r\n",
    "# gets an item in dictionary if not found will return default value\r\n",
    "print(diet.get('thursday', 'Banana'))"
   ],
   "outputs": [
    {
     "output_type": "stream",
     "name": "stdout",
     "text": [
      "Apples\n",
      "Banana\n"
     ]
    }
   ],
   "metadata": {}
  },
  {
   "cell_type": "code",
   "execution_count": 15,
   "source": [
    "# Checking presence of keys\r\n",
    "print('monday' in diet)\r\n",
    "print('sunday' in diet)"
   ],
   "outputs": [
    {
     "output_type": "stream",
     "name": "stdout",
     "text": [
      "True\n",
      "False\n"
     ]
    }
   ],
   "metadata": {}
  },
  {
   "cell_type": "markdown",
   "source": [
    "Get All Keys with keys() & All Values with values()\r\n",
    "----------------------------------------------------"
   ],
   "metadata": {}
  },
  {
   "cell_type": "code",
   "execution_count": 21,
   "source": [
    "signals = {'green': 'go', 'yellow': 'go faster', 'red': 'stop'}\r\n",
    "print(signals.keys())\r\n",
    "print(list(signals.keys()))\r\n",
    "\r\n",
    "print(signals.values())\r\n",
    "print(list(signals.values()))\r\n",
    "\r\n",
    "print(list(signals.items()))\r\n",
    "\r\n",
    "print(f\"length of the dictionary is {len(signals)}\")"
   ],
   "outputs": [
    {
     "output_type": "stream",
     "name": "stdout",
     "text": [
      "dict_keys(['green', 'yellow', 'red'])\n",
      "['green', 'yellow', 'red']\n",
      "dict_values(['go', 'go faster', 'stop'])\n",
      "['go', 'go faster', 'stop']\n",
      "[('green', 'go'), ('yellow', 'go faster'), ('red', 'stop')]\n",
      "length of the dictionary is 3\n"
     ]
    }
   ],
   "metadata": {}
  },
  {
   "cell_type": "markdown",
   "source": [
    "Combine Dictionaries\r\n",
    "--------------------"
   ],
   "metadata": {}
  },
  {
   "cell_type": "code",
   "execution_count": 25,
   "source": [
    "flat_address = {\r\n",
    "    'flatno' : '209-B',\r\n",
    "    'building': 'Nilgiri Block, Aditya Towers'\r\n",
    "}\r\n",
    "\r\n",
    "building_address = {\r\n",
    "    'landmark': 'Ameerpet Metro',\r\n",
    "    'area': 'Ameerpet'\r\n",
    "}\r\n",
    "\r\n",
    "ameerpet_address = {\r\n",
    "    'city': 'Hyderabad',\r\n",
    "    'state': 'Telangana',\r\n",
    "    'pincode': '500017'\r\n",
    "}"
   ],
   "outputs": [],
   "metadata": {}
  },
  {
   "cell_type": "code",
   "execution_count": 24,
   "source": [
    "# combine two dictionaries\r\n",
    "{**flat_address, **building_address}"
   ],
   "outputs": [
    {
     "output_type": "execute_result",
     "data": {
      "text/plain": [
       "{'flatno': '209-B',\n",
       " 'building': 'Nilgiri Block, Aditya Towers',\n",
       " 'landmark': 'Ameerpet Metro',\n",
       " 'area': 'Ameerpet'}"
      ]
     },
     "metadata": {},
     "execution_count": 24
    }
   ],
   "metadata": {}
  },
  {
   "cell_type": "code",
   "execution_count": 26,
   "source": [
    "# combine all the three\r\n",
    "{**flat_address, **building_address, **ameerpet_address}"
   ],
   "outputs": [
    {
     "output_type": "execute_result",
     "data": {
      "text/plain": [
       "{'flatno': '209-B',\n",
       " 'building': 'Nilgiri Block, Aditya Towers',\n",
       " 'landmark': 'Ameerpet Metro',\n",
       " 'area': 'Ameerpet',\n",
       " 'city': 'Hyderabad',\n",
       " 'state': 'Telangana',\n",
       " 'pincode': '500017'}"
      ]
     },
     "metadata": {},
     "execution_count": 26
    }
   ],
   "metadata": {}
  },
  {
   "cell_type": "code",
   "execution_count": 27,
   "source": [
    "complete_address = {**flat_address, **building_address, **ameerpet_address}\r\n",
    "complete_address['city']"
   ],
   "outputs": [
    {
     "output_type": "execute_result",
     "data": {
      "text/plain": [
       "'Hyderabad'"
      ]
     },
     "metadata": {},
     "execution_count": 27
    }
   ],
   "metadata": {}
  },
  {
   "cell_type": "code",
   "execution_count": 34,
   "source": [
    "# Combining using update\r\n",
    "flat_address = {\r\n",
    "    'flatno' : '209-B',\r\n",
    "    'building': 'Nilgiri Block, Aditya Towers'\r\n",
    "}\r\n",
    "\r\n",
    "building_address = {\r\n",
    "    'landmark': 'Ameerpet Metro',\r\n",
    "    'area': 'Ameerpet'\r\n",
    "}\r\n",
    "\r\n",
    "ameerpet_address = {\r\n",
    "    'city': 'Hyderabad',\r\n",
    "    'state': 'Telangana',\r\n",
    "    'pincode': '500017'\r\n",
    "}\r\n",
    "\r\n",
    "complete_address = dict()\r\n",
    "complete_address.update(flat_address)\r\n",
    "complete_address.update(building_address)\r\n",
    "complete_address.update(ameerpet_address)\r\n",
    "print(complete_address)\r\n",
    "print(complete_address['state'])"
   ],
   "outputs": [
    {
     "output_type": "stream",
     "name": "stdout",
     "text": [
      "{'flatno': '209-B', 'building': 'Nilgiri Block, Aditya Towers', 'landmark': 'Ameerpet Metro', 'area': 'Ameerpet', 'city': 'Hyderabad', 'state': 'Telangana', 'pincode': '500017'}\n",
      "Telangana\n"
     ]
    }
   ],
   "metadata": {}
  },
  {
   "cell_type": "markdown",
   "source": [
    "Delete an Item by Key using del and pop\r\n",
    "---------------------------------------"
   ],
   "metadata": {}
  },
  {
   "cell_type": "code",
   "execution_count": 35,
   "source": [
    "print(complete_address)\r\n",
    "del complete_address['pincode']\r\n",
    "print(complete_address)\r\n",
    "\r\n",
    "print(complete_address.pop('landmark'))\r\n",
    "print(complete_address)"
   ],
   "outputs": [
    {
     "output_type": "stream",
     "name": "stdout",
     "text": [
      "{'flatno': '209-B', 'building': 'Nilgiri Block, Aditya Towers', 'landmark': 'Ameerpet Metro', 'area': 'Ameerpet', 'city': 'Hyderabad', 'state': 'Telangana', 'pincode': '500017'}\n",
      "{'flatno': '209-B', 'building': 'Nilgiri Block, Aditya Towers', 'landmark': 'Ameerpet Metro', 'area': 'Ameerpet', 'city': 'Hyderabad', 'state': 'Telangana'}\n",
      "Ameerpet Metro\n",
      "{'flatno': '209-B', 'building': 'Nilgiri Block, Aditya Towers', 'area': 'Ameerpet', 'city': 'Hyderabad', 'state': 'Telangana'}\n"
     ]
    }
   ],
   "metadata": {}
  },
  {
   "cell_type": "code",
   "execution_count": 36,
   "source": [
    "# delte all items with clear\r\n",
    "print(complete_address)\r\n",
    "complete_address.clear()\r\n",
    "print(complete_address)"
   ],
   "outputs": [
    {
     "output_type": "stream",
     "name": "stdout",
     "text": [
      "{'flatno': '209-B', 'building': 'Nilgiri Block, Aditya Towers', 'area': 'Ameerpet', 'city': 'Hyderabad', 'state': 'Telangana'}\n",
      "{}\n"
     ]
    }
   ],
   "metadata": {}
  }
 ],
 "metadata": {
  "orig_nbformat": 4,
  "language_info": {
   "name": "python",
   "version": "3.9.4",
   "mimetype": "text/x-python",
   "codemirror_mode": {
    "name": "ipython",
    "version": 3
   },
   "pygments_lexer": "ipython3",
   "nbconvert_exporter": "python",
   "file_extension": ".py"
  },
  "kernelspec": {
   "name": "python3",
   "display_name": "Python 3.9.4 64-bit"
  },
  "interpreter": {
   "hash": "63fd5069d213b44bf678585dea6b12cceca9941eaf7f819626cde1f2670de90d"
  }
 },
 "nbformat": 4,
 "nbformat_minor": 2
}