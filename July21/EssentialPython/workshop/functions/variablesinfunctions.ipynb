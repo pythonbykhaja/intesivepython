{
 "cells": [
  {
   "cell_type": "markdown",
   "source": [
    "Variables in Functions\r\n",
    "-----------------------"
   ],
   "metadata": {}
  },
  {
   "cell_type": "code",
   "execution_count": 1,
   "source": [
    "x = 5\r\n",
    "def do_some_thing():\r\n",
    "    print(x)\r\n",
    "do_some_thing()\r\n"
   ],
   "outputs": [
    {
     "output_type": "stream",
     "name": "stdout",
     "text": [
      "5\n"
     ]
    }
   ],
   "metadata": {}
  },
  {
   "cell_type": "code",
   "execution_count": 3,
   "source": [
    "def sample_func():\r\n",
    "    y = 5\r\n",
    "    print(y)\r\n",
    "    return 2\r\n",
    "\r\n",
    "sample_func()\r\n",
    "# since y is local variable in a sample_func it cannot be accessed outside\r\n",
    "print(y)"
   ],
   "outputs": [
    {
     "output_type": "stream",
     "name": "stdout",
     "text": [
      "5\n"
     ]
    },
    {
     "output_type": "error",
     "ename": "NameError",
     "evalue": "name 'y' is not defined",
     "traceback": [
      "\u001b[1;31m---------------------------------------------------------------------------\u001b[0m",
      "\u001b[1;31mNameError\u001b[0m                                 Traceback (most recent call last)",
      "\u001b[1;32m<ipython-input-3-607d2deb414a>\u001b[0m in \u001b[0;36m<module>\u001b[1;34m\u001b[0m\n\u001b[0;32m      5\u001b[0m \u001b[1;33m\u001b[0m\u001b[0m\n\u001b[0;32m      6\u001b[0m \u001b[0msample_func\u001b[0m\u001b[1;33m(\u001b[0m\u001b[1;33m)\u001b[0m\u001b[1;33m\u001b[0m\u001b[1;33m\u001b[0m\u001b[0m\n\u001b[1;32m----> 7\u001b[1;33m \u001b[0mprint\u001b[0m\u001b[1;33m(\u001b[0m\u001b[0my\u001b[0m\u001b[1;33m)\u001b[0m\u001b[1;33m\u001b[0m\u001b[1;33m\u001b[0m\u001b[0m\n\u001b[0m",
      "\u001b[1;31mNameError\u001b[0m: name 'y' is not defined"
     ]
    }
   ],
   "metadata": {}
  },
  {
   "cell_type": "code",
   "execution_count": 4,
   "source": [
    "x = 10 # global\r\n",
    "\r\n",
    "def other_func():\r\n",
    "    x = 5 # local\r\n",
    "    print(x)\r\n",
    "\r\n",
    "other_func()\r\n",
    "print(x)\r\n"
   ],
   "outputs": [
    {
     "output_type": "stream",
     "name": "stdout",
     "text": [
      "5\n",
      "10\n"
     ]
    }
   ],
   "metadata": {}
  },
  {
   "cell_type": "code",
   "execution_count": 5,
   "source": [
    "# global keyword\r\n",
    "\r\n",
    "x = 10 # global\r\n",
    "\r\n",
    "def other_func():\r\n",
    "    global x\r\n",
    "    x = 5 \r\n",
    "    print(x)\r\n",
    "\r\n",
    "other_func()\r\n",
    "print(x)"
   ],
   "outputs": [
    {
     "output_type": "stream",
     "name": "stdout",
     "text": [
      "5\n",
      "5\n"
     ]
    }
   ],
   "metadata": {}
  },
  {
   "cell_type": "markdown",
   "source": [
    "nonlocal keyword\r\n",
    "----------------\r\n",
    "\r\n",
    "The nonlocal keyword behaves in a similar way to global keyword, in that it deos not define the variable locally and instlead picks up the existing variable definition. It first looks at the closest enclosing scope.\r\n"
   ],
   "metadata": {}
  },
  {
   "cell_type": "code",
   "execution_count": 7,
   "source": [
    "x = 4\r\n",
    "def outer():\r\n",
    "    x = 5\r\n",
    "    def inner():\r\n",
    "        nonlocal x\r\n",
    "        print(x)\r\n",
    "        x = \"changed\"\r\n",
    "        print(f\"inner: {x}\")\r\n",
    "    inner()\r\n",
    "    print(f\"outer: {x}\")\r\n",
    "\r\n",
    "\r\n",
    "outer()"
   ],
   "outputs": [
    {
     "output_type": "stream",
     "name": "stdout",
     "text": [
      "5\n",
      "inner: changed\n",
      "outer: changed\n"
     ]
    }
   ],
   "metadata": {}
  },
  {
   "cell_type": "code",
   "execution_count": 8,
   "source": [
    "x = 4\r\n",
    "def outer():\r\n",
    "    x = 5\r\n",
    "    def inner():\r\n",
    "        global x\r\n",
    "        print(x)\r\n",
    "        x = \"changed\"\r\n",
    "        print(f\"inner: {x}\")\r\n",
    "    inner()\r\n",
    "    print(f\"outer: {x}\")\r\n",
    "\r\n",
    "outer()\r\n",
    "print(f\"global: {x}\")"
   ],
   "outputs": [],
   "metadata": {}
  }
 ],
 "metadata": {
  "orig_nbformat": 4,
  "language_info": {
   "name": "python",
   "version": "3.9.4",
   "mimetype": "text/x-python",
   "codemirror_mode": {
    "name": "ipython",
    "version": 3
   },
   "pygments_lexer": "ipython3",
   "nbconvert_exporter": "python",
   "file_extension": ".py"
  },
  "kernelspec": {
   "name": "python3",
   "display_name": "Python 3.9.4 64-bit"
  },
  "interpreter": {
   "hash": "63fd5069d213b44bf678585dea6b12cceca9941eaf7f819626cde1f2670de90d"
  }
 },
 "nbformat": 4,
 "nbformat_minor": 2
}