{
 "cells": [
  {
   "cell_type": "markdown",
   "source": [
    "Lambda Functions\r\n",
    "-----------------"
   ],
   "metadata": {}
  },
  {
   "cell_type": "code",
   "execution_count": 1,
   "source": [
    "# consider this simple function\r\n",
    "\r\n",
    "def add(x, y):\r\n",
    "    return x + y\r\n",
    "\r\n",
    "print(add(3,5))"
   ],
   "outputs": [
    {
     "output_type": "stream",
     "name": "stdout",
     "text": [
      "8\n"
     ]
    }
   ],
   "metadata": {}
  },
  {
   "cell_type": "code",
   "execution_count": 2,
   "source": [
    "# using lambda\r\n",
    "add = lambda x,y: x + y\r\n",
    "print(add(3,5))"
   ],
   "outputs": [
    {
     "output_type": "stream",
     "name": "stdout",
     "text": [
      "8\n"
     ]
    }
   ],
   "metadata": {}
  },
  {
   "cell_type": "code",
   "execution_count": 3,
   "source": [
    "# find the last item in the list\r\n",
    "last_item = lambda items: items[-1]\r\n",
    "\r\n",
    "print(last_item(['apple', 'orange', 'banana']))"
   ],
   "outputs": [
    {
     "output_type": "stream",
     "name": "stdout",
     "text": [
      "banana\n"
     ]
    }
   ],
   "metadata": {}
  },
  {
   "cell_type": "code",
   "execution_count": 5,
   "source": [
    "# Mapping\r\n",
    "\r\n",
    "names = ['ironman', 'thor', 'hulk']\r\n",
    "lengths = []\r\n",
    "for name in names:\r\n",
    "    lengths.append(len(name))\r\n",
    "print(names)\r\n",
    "print(lengths)"
   ],
   "outputs": [
    {
     "output_type": "stream",
     "name": "stdout",
     "text": [
      "['ironman', 'thor', 'hulk']\n",
      "[7, 4, 4]\n"
     ]
    }
   ],
   "metadata": {}
  },
  {
   "cell_type": "code",
   "execution_count": 6,
   "source": [
    "names = ['ironman', 'thor', 'hulk']\r\n",
    "lengths= list(map(len, names))\r\n",
    "print(names)\r\n",
    "print(lengths)"
   ],
   "outputs": [
    {
     "output_type": "stream",
     "name": "stdout",
     "text": [
      "['ironman', 'thor', 'hulk']\n",
      "[7, 4, 4]\n"
     ]
    }
   ],
   "metadata": {}
  },
  {
   "cell_type": "code",
   "execution_count": 8,
   "source": [
    "names = ['ironman', 'thor', 'hulk']\r\n",
    "upper_names = list(map(lambda x: x.upper(), names))\r\n",
    "print(upper_names)\r\n",
    "capatilized_names = list(map(lambda x: x.capitalize(), names))\r\n",
    "print(capatilized_names)"
   ],
   "outputs": [
    {
     "output_type": "stream",
     "name": "stdout",
     "text": [
      "['IRONMAN', 'THOR', 'HULK']\n",
      "['Ironman', 'Thor', 'Hulk']\n"
     ]
    }
   ],
   "metadata": {}
  },
  {
   "cell_type": "code",
   "execution_count": 10,
   "source": [
    "numbers = [1,2,3,4,5,6,7,8,9]\r\n",
    "print(numbers)\r\n",
    "\r\n",
    "print(list(filter(lambda num: num%2==0, numbers)))"
   ],
   "outputs": [
    {
     "output_type": "stream",
     "name": "stdout",
     "text": [
      "[1, 2, 3, 4, 5, 6, 7, 8, 9]\n",
      "[2, 4, 6, 8]\n"
     ]
    }
   ],
   "metadata": {}
  },
  {
   "cell_type": "code",
   "execution_count": 17,
   "source": [
    "# Lets create a list of numbers from 0 to 100 and print all the numbers divisible by 3 or 5\r\n",
    "\r\n",
    "numbers = list(range(1,101))\r\n",
    "filtered = filter(lambda x: x%3 == 0 or x%5 == 0, numbers )\r\n",
    "values = list(filtered)\r\n",
    "print(values)\r\n",
    "print(sum(values))\r\n",
    "\r\n"
   ],
   "outputs": [
    {
     "output_type": "stream",
     "name": "stdout",
     "text": [
      "[3, 5, 6, 9, 10, 12, 15, 18, 20, 21, 24, 25, 27, 30, 33, 35, 36, 39, 40, 42, 45, 48, 50, 51, 54, 55, 57, 60, 63, 65, 66, 69, 70, 72, 75, 78, 80, 81, 84, 85, 87, 90, 93, 95, 96, 99, 100]\n",
      "2418\n"
     ]
    }
   ],
   "metadata": {}
  },
  {
   "cell_type": "markdown",
   "source": [
    "## Multiples of 3 or 5\r\n",
    "\r\n",
    "If we list all the natural numbers below 10 that are multiples of 3 or 5, we get 3, 5, 6 and 9. The sum of these multiples is 23.\r\n",
    "\r\n",
    "Find the sum of all the multiples of 3 or 5 below 1000."
   ],
   "metadata": {}
  },
  {
   "cell_type": "code",
   "execution_count": null,
   "source": [
    "numbers = range(1, 1000)\r\n",
    "filtered = filter(lambda x: x%3 == 0 or x%5 == 0, numbers )\r\n",
    "print(sum(filtered))"
   ],
   "outputs": [],
   "metadata": {}
  }
 ],
 "metadata": {
  "orig_nbformat": 4,
  "language_info": {
   "name": "python",
   "version": "3.9.4",
   "mimetype": "text/x-python",
   "codemirror_mode": {
    "name": "ipython",
    "version": 3
   },
   "pygments_lexer": "ipython3",
   "nbconvert_exporter": "python",
   "file_extension": ".py"
  },
  "kernelspec": {
   "name": "python3",
   "display_name": "Python 3.9.4 64-bit"
  },
  "interpreter": {
   "hash": "63fd5069d213b44bf678585dea6b12cceca9941eaf7f819626cde1f2670de90d"
  }
 },
 "nbformat": 4,
 "nbformat_minor": 2
}