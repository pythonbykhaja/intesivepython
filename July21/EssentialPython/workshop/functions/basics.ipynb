{
 "cells": [
  {
   "cell_type": "markdown",
   "source": [
    "Basic Functions\r\n",
    "---------------"
   ],
   "metadata": {}
  },
  {
   "cell_type": "code",
   "execution_count": 1,
   "source": [
    "def add(x, y):\r\n",
    "    return x + y\r\n",
    "print(add(1,2))"
   ],
   "outputs": [
    {
     "output_type": "stream",
     "name": "stdout",
     "text": [
      "3\n"
     ]
    }
   ],
   "metadata": {}
  },
  {
   "cell_type": "code",
   "execution_count": 2,
   "source": [
    "# calculate product of all the elements in the list\r\n",
    "\r\n",
    "def list_product(values: list) -> int:\r\n",
    "    \"\"\"This function will calculate the product of the lists\r\n",
    "    \"\"\"\r\n",
    "    result = 1\r\n",
    "    for value in values:\r\n",
    "        result *= value\r\n",
    "    return result\r\n",
    "\r\n",
    "print(list_product([1,2,3,4,5,6]))"
   ],
   "outputs": [
    {
     "output_type": "stream",
     "name": "stdout",
     "text": [
      "720\n"
     ]
    }
   ],
   "metadata": {}
  },
  {
   "cell_type": "code",
   "execution_count": 4,
   "source": [
    "def product(*args) -> int:\r\n",
    "    result = 1\r\n",
    "    for arg in args:\r\n",
    "        result *= arg\r\n",
    "    return result\r\n",
    "\r\n",
    "\r\n",
    "print(product(1,2,3))\r\n",
    "print(product(5,7,9))"
   ],
   "outputs": [
    {
     "output_type": "stream",
     "name": "stdout",
     "text": [
      "6\n"
     ]
    }
   ],
   "metadata": {}
  }
 ],
 "metadata": {
  "orig_nbformat": 4,
  "language_info": {
   "name": "python",
   "version": "3.9.4",
   "mimetype": "text/x-python",
   "codemirror_mode": {
    "name": "ipython",
    "version": 3
   },
   "pygments_lexer": "ipython3",
   "nbconvert_exporter": "python",
   "file_extension": ".py"
  },
  "kernelspec": {
   "name": "python3",
   "display_name": "Python 3.9.4 64-bit"
  },
  "interpreter": {
   "hash": "63fd5069d213b44bf678585dea6b12cceca9941eaf7f819626cde1f2670de90d"
  }
 },
 "nbformat": 4,
 "nbformat_minor": 2
}