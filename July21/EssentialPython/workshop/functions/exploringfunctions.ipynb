{
 "cells": [
  {
   "cell_type": "markdown",
   "source": [
    "## Functions as Arguments"
   ],
   "metadata": {}
  },
  {
   "cell_type": "code",
   "execution_count": 2,
   "source": [
    "def say_hello():\r\n",
    "    print(\"Hello\")\r\n",
    "\r\n",
    "print(type(say_hello))\r\n",
    "sh = say_hello\r\n",
    "sh()"
   ],
   "outputs": [
    {
     "output_type": "stream",
     "name": "stdout",
     "text": [
      "<class 'function'>\n",
      "Hello\n"
     ]
    }
   ],
   "metadata": {}
  },
  {
   "cell_type": "code",
   "execution_count": null,
   "source": [
    "def say_hello():\r\n",
    "    return \"Hello\"\r\n",
    "\r\n",
    "def say_gracias():\r\n",
    "    return \"Gracias\"\r\n",
    "\r\n",
    "def greet(func, name):\r\n",
    "    message = f\"{func()} {name}\"\r\n",
    "    print(message)\r\n",
    "\r\n",
    "greet(say_hello, \"QT\")\r\n",
    "greet(say_gracias, \"IHub\")\r\n",
    "\r\n"
   ],
   "outputs": [],
   "metadata": {}
  }
 ],
 "metadata": {
  "orig_nbformat": 4,
  "language_info": {
   "name": "python",
   "version": "3.9.4",
   "mimetype": "text/x-python",
   "codemirror_mode": {
    "name": "ipython",
    "version": 3
   },
   "pygments_lexer": "ipython3",
   "nbconvert_exporter": "python",
   "file_extension": ".py"
  },
  "kernelspec": {
   "name": "python3",
   "display_name": "Python 3.9.4 64-bit"
  },
  "interpreter": {
   "hash": "63fd5069d213b44bf678585dea6b12cceca9941eaf7f819626cde1f2670de90d"
  }
 },
 "nbformat": 4,
 "nbformat_minor": 2
}