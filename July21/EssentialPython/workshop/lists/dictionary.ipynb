{
 "cells": [
  {
   "cell_type": "markdown",
   "source": [
    "Dictionary\r\n",
    "-----------"
   ],
   "metadata": {}
  },
  {
   "cell_type": "code",
   "execution_count": 3,
   "source": [
    "employee = { 'name': 'Teja', 'age': 30, 'department': 'admin'}\r\n",
    "print(employee)\r\n",
    "print(employee['name'])\r\n",
    "print(employee['department'])"
   ],
   "outputs": [
    {
     "output_type": "stream",
     "name": "stdout",
     "text": [
      "{'name': 'Teja', 'age': 30, 'department': 'admin'}\n",
      "Teja\n",
      "admin\n"
     ]
    }
   ],
   "metadata": {}
  },
  {
   "cell_type": "code",
   "execution_count": 4,
   "source": [
    "# Lets create a dictionary to store a movie record\r\n",
    "\r\n",
    "movie = {\r\n",
    "    'title': 'Bahubali',\r\n",
    "    'director': 'SS Rajamouli',\r\n",
    "    'year': '2016',\r\n",
    "    'rating': '8.8'\r\n",
    "}\r\n",
    "print(movie)"
   ],
   "outputs": [
    {
     "output_type": "stream",
     "name": "stdout",
     "text": [
      "{'title': 'Bahubali', 'director': 'SS Rajamouli', 'year': '2016', 'rating': '8.8'}\n"
     ]
    }
   ],
   "metadata": {}
  },
  {
   "cell_type": "code",
   "execution_count": 5,
   "source": [
    "movie = dict()\r\n",
    "movie['title'] = 'Bahubali'\r\n",
    "movie['director'] = 'SS Rajamouli'\r\n",
    "movie['year'] = 2016\r\n",
    "movie['rating'] = 8.8\r\n",
    "movie['actors'] = ['Prabhas', 'Rana', 'Anushka', 'Tamannah']\r\n",
    "print(movie)"
   ],
   "outputs": [
    {
     "output_type": "stream",
     "name": "stdout",
     "text": [
      "{'title': 'Bahubali', 'director': 'SS Rajamouli', 'year': 2016, 'rating': 8.8}\n"
     ]
    }
   ],
   "metadata": {}
  }
 ],
 "metadata": {
  "orig_nbformat": 4,
  "language_info": {
   "name": "python",
   "version": "3.9.4",
   "mimetype": "text/x-python",
   "codemirror_mode": {
    "name": "ipython",
    "version": 3
   },
   "pygments_lexer": "ipython3",
   "nbconvert_exporter": "python",
   "file_extension": ".py"
  },
  "kernelspec": {
   "name": "python3",
   "display_name": "Python 3.9.4 64-bit"
  },
  "interpreter": {
   "hash": "63fd5069d213b44bf678585dea6b12cceca9941eaf7f819626cde1f2670de90d"
  }
 },
 "nbformat": 4,
 "nbformat_minor": 2
}