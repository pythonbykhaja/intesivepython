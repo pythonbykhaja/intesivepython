{
 "cells": [
  {
   "cell_type": "markdown",
   "source": [
    "Working with Python Lists\r\n",
    "--------------------------"
   ],
   "metadata": {}
  },
  {
   "cell_type": "code",
   "execution_count": 1,
   "source": [
    "shopping = ['oranges', 'milk', 'chocolates']\r\n",
    "print(shopping)"
   ],
   "outputs": [
    {
     "output_type": "stream",
     "name": "stdout",
     "text": [
      "['oranges', 'milk', 'chocolates']\n"
     ]
    }
   ],
   "metadata": {}
  },
  {
   "cell_type": "code",
   "execution_count": 2,
   "source": [
    "for item in shopping:\r\n",
    "    print(item)"
   ],
   "outputs": [
    {
     "output_type": "stream",
     "name": "stdout",
     "text": [
      "oranges\n",
      "milk\n",
      "chocolates\n"
     ]
    }
   ],
   "metadata": {}
  },
  {
   "cell_type": "code",
   "execution_count": 3,
   "source": [
    "mixed = [10, 'days', True]\r\n",
    "print(mixed)"
   ],
   "outputs": [
    {
     "output_type": "stream",
     "name": "stdout",
     "text": [
      "[10, 'days', True]\n"
     ]
    }
   ],
   "metadata": {}
  },
  {
   "cell_type": "markdown",
   "source": [
    "Using Nested Lists\r\n",
    "-------------------\r\n",
    "\r\n",
    "* If the data which you are trying to represent is tabular i.e rows and columns, such tables are called as matrices and two-dimensional arrays"
   ],
   "metadata": {}
  },
  {
   "cell_type": "code",
   "execution_count": 4,
   "source": [
    "matrix = [ [1,2,3], [4,5,6]]\r\n",
    "# [row][column]\r\n",
    "print(matrix[0][0])\r\n",
    "print(matrix[1][2])"
   ],
   "outputs": [
    {
     "output_type": "stream",
     "name": "stdout",
     "text": [
      "1\n",
      "6\n"
     ]
    }
   ],
   "metadata": {}
  },
  {
   "cell_type": "code",
   "execution_count": 5,
   "source": [
    "# Iterate through matrices\r\n",
    "matrix = [ [1,2,3], [4,5,6], [7,8,9]]\r\n",
    "for row in range(len(matrix)):\r\n",
    "    print()\r\n",
    "    for column in range(len(matrix[row])):\r\n",
    "        print(matrix[row][column], sep=' ', end=' ')\r\n"
   ],
   "outputs": [
    {
     "output_type": "stream",
     "name": "stdout",
     "text": [
      "\n",
      "1 2 3 \n",
      "4 5 6 \n",
      "7 8 9 "
     ]
    }
   ],
   "metadata": {}
  },
  {
   "cell_type": "code",
   "execution_count": 6,
   "source": [
    "def print_matrix(matrix: list):\r\n",
    "    for row in range(len(matrix)):\r\n",
    "        print()\r\n",
    "        for column in range(len(matrix[row])):\r\n",
    "            print(matrix[row][column], sep=' ', end=' ')"
   ],
   "outputs": [],
   "metadata": {}
  },
  {
   "cell_type": "markdown",
   "source": [
    "Matrix Operations\r\n",
    "-----------------"
   ],
   "metadata": {}
  },
  {
   "cell_type": "code",
   "execution_count": 7,
   "source": [
    "matrix_1 =  [ [1,2,3], [4,5,6], [7,8,9]]\r\n",
    "matrix_2 =  [ [11,12,13], [14,15,16], [17,18,19]]\r\n",
    "\r\n",
    "# sum of two matrices\r\n",
    "result = [[0,0,0], [0,0,0], [0,0,0]]\r\n",
    "for row in range(len(matrix_1)):\r\n",
    "    for column in range(len(matrix_1[row])):\r\n",
    "        result[row][column] = matrix_1[row][column] + matrix_2[row][column]\r\n",
    "\r\n",
    "print_matrix(result)\r\n",
    "        "
   ],
   "outputs": [
    {
     "output_type": "stream",
     "name": "stdout",
     "text": [
      "\n",
      "12 14 16 \n",
      "18 20 22 \n",
      "24 26 28 "
     ]
    }
   ],
   "metadata": {}
  }
 ],
 "metadata": {
  "orig_nbformat": 4,
  "language_info": {
   "name": "python",
   "version": "3.9.4",
   "mimetype": "text/x-python",
   "codemirror_mode": {
    "name": "ipython",
    "version": 3
   },
   "pygments_lexer": "ipython3",
   "nbconvert_exporter": "python",
   "file_extension": ".py"
  },
  "kernelspec": {
   "name": "python3",
   "display_name": "Python 3.9.4 64-bit"
  },
  "interpreter": {
   "hash": "63fd5069d213b44bf678585dea6b12cceca9941eaf7f819626cde1f2670de90d"
  }
 },
 "nbformat": 4,
 "nbformat_minor": 2
}