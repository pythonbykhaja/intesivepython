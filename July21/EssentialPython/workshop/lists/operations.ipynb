{
 "cells": [
  {
   "cell_type": "markdown",
   "source": [
    "Basic List Operations\r\n",
    "---------------------"
   ],
   "metadata": {}
  },
  {
   "cell_type": "code",
   "execution_count": 1,
   "source": [
    "# concatenation\r\n",
    "list_1 = [1,2,3]\r\n",
    "list_2 = [4,5,6]\r\n",
    "combined_list = list_1 + list_2\r\n",
    "print(combined_list)"
   ],
   "outputs": [
    {
     "output_type": "stream",
     "name": "stdout",
     "text": [
      "[1, 2, 3, 4, 5, 6]\n"
     ]
    }
   ],
   "metadata": {}
  },
  {
   "cell_type": "code",
   "execution_count": 2,
   "source": [
    "# Repeat/duplicate\r\n",
    "print(list_1 * 2)\r\n",
    "print(list_2 * 3)"
   ],
   "outputs": [
    {
     "output_type": "stream",
     "name": "stdout",
     "text": [
      "[1, 2, 3, 1, 2, 3]\n",
      "[4, 5, 6, 4, 5, 6, 4, 5, 6]\n"
     ]
    }
   ],
   "metadata": {}
  },
  {
   "cell_type": "code",
   "execution_count": 3,
   "source": [
    "# appending\r\n",
    "items = ['oranges', 'milk', 'chocolates']\r\n",
    "print(items)\r\n",
    "items.append('eggs')\r\n",
    "print(items)"
   ],
   "outputs": [
    {
     "output_type": "stream",
     "name": "stdout",
     "text": [
      "['oranges', 'milk', 'chocolates']\n",
      "['oranges', 'milk', 'chocolates', 'eggs']\n"
     ]
    }
   ],
   "metadata": {}
  },
  {
   "cell_type": "code",
   "execution_count": 4,
   "source": [
    "items = []\r\n",
    "items.append('oranges')\r\n",
    "items.append('milk')\r\n",
    "items.append('chocolates')\r\n",
    "items.append('eggs')\r\n",
    "print(items)"
   ],
   "outputs": [
    {
     "output_type": "stream",
     "name": "stdout",
     "text": [
      "['oranges', 'milk', 'chocolates', 'eggs']\n"
     ]
    }
   ],
   "metadata": {}
  },
  {
   "cell_type": "code",
   "execution_count": 6,
   "source": [
    "# inserting at specific positions\r\n",
    "items.insert(0, 'icecream')\r\n",
    "print(items)\r\n",
    "items.insert(2, 'chips')\r\n",
    "print(items)"
   ],
   "outputs": [
    {
     "output_type": "stream",
     "name": "stdout",
     "text": [
      "['icecream', 'icecream', 'oranges', 'milk', 'chocolates', 'eggs']\n",
      "['icecream', 'icecream', 'chips', 'oranges', 'milk', 'chocolates', 'eggs']\n"
     ]
    }
   ],
   "metadata": {}
  },
  {
   "cell_type": "code",
   "execution_count": 7,
   "source": [
    "# Clearing the list items\r\n",
    "print(items)\r\n",
    "items.clear()\r\n",
    "print(items)"
   ],
   "outputs": [
    {
     "output_type": "stream",
     "name": "stdout",
     "text": [
      "['icecream', 'icecream', 'chips', 'oranges', 'milk', 'chocolates', 'eggs']\n",
      "[]\n"
     ]
    }
   ],
   "metadata": {}
  },
  {
   "cell_type": "code",
   "execution_count": 8,
   "source": [
    "# Extending lists\r\n",
    "colors = ['red', 'blue']\r\n",
    "new_colors = ['green', 'black']\r\n",
    "colors.extend(new_colors)\r\n",
    "print(colors)"
   ],
   "outputs": [
    {
     "output_type": "stream",
     "name": "stdout",
     "text": [
      "['red', 'blue', 'green', 'black']\n"
     ]
    }
   ],
   "metadata": {}
  },
  {
   "cell_type": "code",
   "execution_count": 9,
   "source": [
    "# Creating a list from string\r\n",
    "all_small_case = 'abcdefghijklmnopqrstuvwxyz'\r\n",
    "all_upper_case= 'ABCDEFGHIJKLMNOPQRSTUVWXYZ'\r\n",
    "small_case_alphabets = list(all_small_case)\r\n",
    "print(small_case_alphabets)\r\n",
    "upper_case_alphabets = list(all_upper_case)\r\n",
    "print(upper_case_alphabets)"
   ],
   "outputs": [
    {
     "output_type": "stream",
     "name": "stdout",
     "text": [
      "['a', 'b', 'c', 'd', 'e', 'f', 'g', 'h', 'i', 'j', 'k', 'l', 'm', 'n', 'o', 'p', 'q', 'r', 's', 't', 'u', 'v', 'w', 'x', 'y', 'z']\n",
      "['A', 'B', 'C', 'D', 'E', 'F', 'G', 'H', 'I', 'J', 'K', 'L', 'M', 'N', 'O', 'P', 'Q', 'R', 'S', 'T', 'U', 'V', 'W', 'X', 'Y', 'Z']\n"
     ]
    }
   ],
   "metadata": {}
  },
  {
   "cell_type": "code",
   "execution_count": 11,
   "source": [
    "# split the string into list\r\n",
    "record = '1,python,45,10000'\r\n",
    "print(record.split(','))"
   ],
   "outputs": [
    {
     "output_type": "stream",
     "name": "stdout",
     "text": [
      "['1', 'python', '45', '10000']\n"
     ]
    }
   ],
   "metadata": {}
  },
  {
   "cell_type": "code",
   "execution_count": 13,
   "source": [
    "# combining multiple list items as a string\r\n",
    "items = ['2', 'Django', '40', '10000.0']\r\n",
    "print(','.join(items))"
   ],
   "outputs": [
    {
     "output_type": "error",
     "ename": "TypeError",
     "evalue": "sequence item 3: expected str instance, float found",
     "traceback": [
      "\u001b[1;31m---------------------------------------------------------------------------\u001b[0m",
      "\u001b[1;31mTypeError\u001b[0m                                 Traceback (most recent call last)",
      "\u001b[1;32m<ipython-input-13-e4822238292b>\u001b[0m in \u001b[0;36m<module>\u001b[1;34m\u001b[0m\n\u001b[0;32m      1\u001b[0m \u001b[1;31m# combining multiple list items as a string\u001b[0m\u001b[1;33m\u001b[0m\u001b[1;33m\u001b[0m\u001b[1;33m\u001b[0m\u001b[0m\n\u001b[0;32m      2\u001b[0m \u001b[0mitems\u001b[0m \u001b[1;33m=\u001b[0m \u001b[1;33m[\u001b[0m\u001b[1;34m'2'\u001b[0m\u001b[1;33m,\u001b[0m \u001b[1;34m'Django'\u001b[0m\u001b[1;33m,\u001b[0m \u001b[1;34m'40'\u001b[0m\u001b[1;33m,\u001b[0m \u001b[1;36m10000.0\u001b[0m\u001b[1;33m]\u001b[0m\u001b[1;33m\u001b[0m\u001b[1;33m\u001b[0m\u001b[0m\n\u001b[1;32m----> 3\u001b[1;33m \u001b[0mprint\u001b[0m\u001b[1;33m(\u001b[0m\u001b[1;34m','\u001b[0m\u001b[1;33m.\u001b[0m\u001b[0mjoin\u001b[0m\u001b[1;33m(\u001b[0m\u001b[0mitems\u001b[0m\u001b[1;33m)\u001b[0m\u001b[1;33m)\u001b[0m\u001b[1;33m\u001b[0m\u001b[1;33m\u001b[0m\u001b[0m\n\u001b[0m",
      "\u001b[1;31mTypeError\u001b[0m: sequence item 3: expected str instance, float found"
     ]
    }
   ],
   "metadata": {}
  }
 ],
 "metadata": {
  "orig_nbformat": 4,
  "language_info": {
   "name": "python",
   "version": "3.9.4",
   "mimetype": "text/x-python",
   "codemirror_mode": {
    "name": "ipython",
    "version": 3
   },
   "pygments_lexer": "ipython3",
   "nbconvert_exporter": "python",
   "file_extension": ".py"
  },
  "kernelspec": {
   "name": "python3",
   "display_name": "Python 3.9.4 64-bit"
  },
  "interpreter": {
   "hash": "63fd5069d213b44bf678585dea6b12cceca9941eaf7f819626cde1f2670de90d"
  }
 },
 "nbformat": 4,
 "nbformat_minor": 2
}