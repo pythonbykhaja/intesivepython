{
 "cells": [
  {
   "cell_type": "markdown",
   "source": [
    "Zipping and Unzipping Dictionaries using zip()\r\n",
    "----------------------------------------------"
   ],
   "metadata": {}
  },
  {
   "cell_type": "code",
   "execution_count": 8,
   "source": [
    "items = ['apple', 'orange', 'banana', 'strawberry' ]\r\n",
    "quantity = [ 10, 5, 12, 6 ]\r\n",
    "\r\n",
    "# lets combine two lists using zip method\r\n",
    "orders = zip(items,quantity)\r\n",
    "print(orders)\r\n",
    "print(list(orders))\r\n",
    "orders = zip(items,quantity)\r\n",
    "print(tuple(orders))\r\n",
    "orders = zip(items,quantity)\r\n",
    "print(dict(orders))\r\n",
    "orders = zip(items,quantity)\r\n",
    "orders_dict=dict(orders)\r\n",
    "print(orders_dict['apple'])\r\n",
    "print(orders_dict['banana'])"
   ],
   "outputs": [
    {
     "output_type": "stream",
     "name": "stdout",
     "text": [
      "<zip object at 0x000001F9807DD280>\n",
      "[('apple', 10), ('orange', 5), ('banana', 12), ('strawberry', 6)]\n",
      "(('apple', 10), ('orange', 5), ('banana', 12), ('strawberry', 6))\n",
      "{'apple': 10, 'orange': 5, 'banana': 12, 'strawberry': 6}\n",
      "10\n",
      "12\n"
     ]
    }
   ],
   "metadata": {}
  },
  {
   "cell_type": "code",
   "execution_count": 9,
   "source": [
    "items = ['apple', 'orange', 'banana', 'strawberry' ]\r\n",
    "quantity = [ 10, 5, 12, 6 ]\r\n",
    "orders = zip(items,quantity)\r\n",
    "for order in orders:\r\n",
    "    print(order)\r\n"
   ],
   "outputs": [
    {
     "output_type": "stream",
     "name": "stdout",
     "text": [
      "('apple', 10)\n",
      "('orange', 5)\n",
      "('banana', 12)\n",
      "('strawberry', 6)\n"
     ]
    }
   ],
   "metadata": {}
  },
  {
   "cell_type": "code",
   "execution_count": null,
   "source": [
    "items = ['apple', 'orange', 'banana', 'strawberry' ]\r\n",
    "quantity = [ 10, 5, 12, 6 ]\r\n",
    "orders = zip(items,quantity)\r\n",
    "order_dict = dict(orders)\r\n",
    "for item, count in order_dict.items():\r\n",
    "    print(f\"{item} ==> {count}\")"
   ],
   "outputs": [],
   "metadata": {}
  }
 ],
 "metadata": {
  "orig_nbformat": 4,
  "language_info": {
   "name": "python",
   "version": "3.9.4",
   "mimetype": "text/x-python",
   "codemirror_mode": {
    "name": "ipython",
    "version": 3
   },
   "pygments_lexer": "ipython3",
   "nbconvert_exporter": "python",
   "file_extension": ".py"
  },
  "kernelspec": {
   "name": "python3",
   "display_name": "Python 3.9.4 64-bit"
  },
  "interpreter": {
   "hash": "63fd5069d213b44bf678585dea6b12cceca9941eaf7f819626cde1f2670de90d"
  }
 },
 "nbformat": 4,
 "nbformat_minor": 2
}