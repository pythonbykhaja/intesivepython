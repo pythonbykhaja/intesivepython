{
 "cells": [
  {
   "cell_type": "markdown",
   "source": [
    "Zipping and Unzipping Dictionaries using zip()\r\n",
    "----------------------------------------------"
   ],
   "metadata": {}
  },
  {
   "cell_type": "code",
   "execution_count": 8,
   "source": [
    "items = ['apple', 'orange', 'banana', 'strawberry' ]\r\n",
    "quantity = [ 10, 5, 12, 6 ]\r\n",
    "\r\n",
    "# lets combine two lists using zip method\r\n",
    "orders = zip(items,quantity)\r\n",
    "print(orders)\r\n",
    "print(list(orders))\r\n",
    "orders = zip(items,quantity)\r\n",
    "print(tuple(orders))\r\n",
    "orders = zip(items,quantity)\r\n",
    "print(dict(orders))\r\n",
    "orders = zip(items,quantity)\r\n",
    "orders_dict=dict(orders)\r\n",
    "print(orders_dict['apple'])\r\n",
    "print(orders_dict['banana'])"
   ],
   "outputs": [
    {
     "output_type": "stream",
     "name": "stdout",
     "text": [
      "<zip object at 0x000001F9807DD280>\n",
      "[('apple', 10), ('orange', 5), ('banana', 12), ('strawberry', 6)]\n",
      "(('apple', 10), ('orange', 5), ('banana', 12), ('strawberry', 6))\n",
      "{'apple': 10, 'orange': 5, 'banana': 12, 'strawberry': 6}\n",
      "10\n",
      "12\n"
     ]
    }
   ],
   "metadata": {}
  },
  {
   "cell_type": "code",
   "execution_count": 9,
   "source": [
    "items = ['apple', 'orange', 'banana', 'strawberry' ]\r\n",
    "quantity = [ 10, 5, 12, 6 ]\r\n",
    "orders = zip(items,quantity)\r\n",
    "for order in orders:\r\n",
    "    print(order)\r\n"
   ],
   "outputs": [
    {
     "output_type": "stream",
     "name": "stdout",
     "text": [
      "('apple', 10)\n",
      "('orange', 5)\n",
      "('banana', 12)\n",
      "('strawberry', 6)\n"
     ]
    }
   ],
   "metadata": {}
  },
  {
   "cell_type": "code",
   "execution_count": 10,
   "source": [
    "items = ['apple', 'orange', 'banana', 'strawberry' ]\r\n",
    "quantity = [ 10, 5, 12, 6 ]\r\n",
    "orders = zip(items,quantity)\r\n",
    "order_dict = dict(orders)\r\n",
    "for item, count in order_dict.items():\r\n",
    "    print(f\"{item} ==> {count}\")"
   ],
   "outputs": [
    {
     "output_type": "stream",
     "name": "stdout",
     "text": [
      "apple ==> 10\n",
      "orange ==> 5\n",
      "banana ==> 12\n",
      "strawberry ==> 6\n"
     ]
    }
   ],
   "metadata": {}
  },
  {
   "cell_type": "markdown",
   "source": [
    "Dictionary methods\r\n",
    "------------------"
   ],
   "metadata": {}
  },
  {
   "cell_type": "code",
   "execution_count": 14,
   "source": [
    "items = ['apple', 'orange', 'banana', 'strawberry' ]\r\n",
    "quantity = [ 10, 5, 12, 6 ]\r\n",
    "orders = zip(items,quantity)\r\n",
    "order_dict = dict(orders)\r\n",
    "print(order_dict)\r\n",
    "print(order_dict.values())\r\n",
    "print(order_dict.keys())\r\n",
    "print(order_dict.items())"
   ],
   "outputs": [
    {
     "output_type": "stream",
     "name": "stdout",
     "text": [
      "{'apple': 10, 'orange': 5, 'banana': 12, 'strawberry': 6}\n",
      "dict_values([10, 5, 12, 6])\n",
      "dict_keys(['apple', 'orange', 'banana', 'strawberry'])\n",
      "dict_items([('apple', 10), ('orange', 5), ('banana', 12), ('strawberry', 6)])\n"
     ]
    }
   ],
   "metadata": {}
  },
  {
   "cell_type": "code",
   "execution_count": 16,
   "source": [
    "print('apple' in order_dict)\r\n",
    "print('mango' in order_dict)\r\n",
    "del order_dict['strawberry']\r\n",
    "print(order_dict)"
   ],
   "outputs": [
    {
     "output_type": "stream",
     "name": "stdout",
     "text": [
      "True\n",
      "False\n",
      "{'apple': 10, 'orange': 5, 'banana': 12}\n"
     ]
    }
   ],
   "metadata": {}
  },
  {
   "cell_type": "markdown",
   "source": [
    "Copy in python\r\n",
    "--------------"
   ],
   "metadata": {}
  },
  {
   "cell_type": "code",
   "execution_count": 17,
   "source": [
    "matrix = [[1,2,3,], [4,5,6]]\r\n",
    "new_matrix = matrix\r\n",
    "print(matrix)\r\n",
    "print(new_matrix)"
   ],
   "outputs": [
    {
     "output_type": "stream",
     "name": "stdout",
     "text": [
      "[[1, 2, 3], [4, 5, 6]]\n",
      "[[1, 2, 3], [4, 5, 6]]\n"
     ]
    }
   ],
   "metadata": {}
  },
  {
   "cell_type": "code",
   "execution_count": 19,
   "source": [
    "matrix[0][0] = 10\r\n",
    "print(matrix)\r\n",
    "print(new_matrix)"
   ],
   "outputs": [
    {
     "output_type": "stream",
     "name": "stdout",
     "text": [
      "[[10, 2, 3], [4, 5, 6]]\n",
      "[[10, 2, 3], [4, 5, 6]]\n"
     ]
    }
   ],
   "metadata": {}
  },
  {
   "cell_type": "code",
   "execution_count": 22,
   "source": [
    "matrix = [[1,2,3,], [4,5,6]]\r\n",
    "# shallow copy \r\n",
    "new_matrix = matrix.copy()\r\n",
    "print(matrix)\r\n",
    "print(new_matrix)\r\n",
    "\r\n",
    "matrix[0][0] = 10\r\n",
    "print(matrix)\r\n",
    "print(new_matrix)\r\n",
    "\r\n",
    "matrix.append([7,8,9])\r\n",
    "print(matrix)\r\n",
    "print(new_matrix)\r\n"
   ],
   "outputs": [
    {
     "output_type": "stream",
     "name": "stdout",
     "text": [
      "[[1, 2, 3], [4, 5, 6]]\n",
      "[[1, 2, 3], [4, 5, 6]]\n",
      "[[10, 2, 3], [4, 5, 6]]\n",
      "[[10, 2, 3], [4, 5, 6]]\n",
      "[[10, 2, 3], [4, 5, 6], [7, 8, 9]]\n",
      "[[10, 2, 3], [4, 5, 6]]\n"
     ]
    }
   ],
   "metadata": {}
  },
  {
   "cell_type": "code",
   "execution_count": null,
   "source": [
    "# deepcopy\r\n",
    "matrix = [[1,2,3,], [4,5,6]]\r\n",
    "\r\n",
    "import copy\r\n",
    "new_matrix = copy.deepcopy(matrix)\r\n",
    "print(matrix)\r\n",
    "print(new_matrix)\r\n",
    "\r\n",
    "matrix[0][0] = 10\r\n",
    "print(matrix)\r\n",
    "print(new_matrix)"
   ],
   "outputs": [],
   "metadata": {}
  }
 ],
 "metadata": {
  "orig_nbformat": 4,
  "language_info": {
   "name": "python",
   "version": "3.9.4",
   "mimetype": "text/x-python",
   "codemirror_mode": {
    "name": "ipython",
    "version": 3
   },
   "pygments_lexer": "ipython3",
   "nbconvert_exporter": "python",
   "file_extension": ".py"
  },
  "kernelspec": {
   "name": "python3",
   "display_name": "Python 3.9.4 64-bit"
  },
  "interpreter": {
   "hash": "63fd5069d213b44bf678585dea6b12cceca9941eaf7f819626cde1f2670de90d"
  }
 },
 "nbformat": 4,
 "nbformat_minor": 2
}